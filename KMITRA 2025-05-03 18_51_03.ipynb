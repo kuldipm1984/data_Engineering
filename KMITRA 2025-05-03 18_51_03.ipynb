{
 "metadata": {
  "kernelspec": {
   "display_name": "Streamlit Notebook",
   "name": "streamlit"
  },
  "lastEditStatus": {
   "notebookId": "jx6ewf4o6od3nkjmgemc",
   "authorId": "5006629949230",
   "authorName": "KMITRA",
   "authorEmail": "kuldip.mitra@ontariotechu.net",
   "sessionId": "5edeab27-0a01-448f-9cf6-f9b6a69d8a59",
   "lastEditTime": 1746314621567
  }
 },
 "nbformat_minor": 5,
 "nbformat": 4,
 "cells": [
  {
   "cell_type": "code",
   "id": "3775908f-ca36-4846-8f38-5adca39217f2",
   "metadata": {
    "language": "python",
    "name": "cell1"
   },
   "source": "import streamlit as st\nimport pandas as pd\nfrom snowflake.snowpark.context import get_active_session\nsession = get_active_session()\ndf = session.table(\"SALESDATA\")\npandas_df = df.to_pandas()\npandas_df.head(2)\n",
   "execution_count": null,
   "outputs": []
  },
  {
   "cell_type": "code",
   "id": "b39809d2-3756-481e-bb07-f28849d1ae4d",
   "metadata": {
    "language": "sql",
    "name": "cell4"
   },
   "outputs": [],
   "source": "SELECT\nproduct_id,\nsum(SALE) as total_revenue\nfrom SALESDATA\nwhere product_id in ('Tomato','Rice')\nGroup by product_id\nhaving total_revenue>6000\nOrder by total_revenue desc\n\n",
   "execution_count": null
  },
  {
   "cell_type": "code",
   "id": "da222600-4939-4cb0-92e5-4af2b829c0cd",
   "metadata": {
    "language": "python",
    "name": "cell5"
   },
   "outputs": [],
   "source": "# Import python packages\nimport streamlit as st\nimport pandas as pd\ndf= select*from SALESDATA\ndf",
   "execution_count": null
  }
 ]
}