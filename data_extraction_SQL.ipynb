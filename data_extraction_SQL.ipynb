{
 "cells": [
  {
   "cell_type": "code",
   "execution_count": 50,
   "id": "13259eaf-e40c-4eb6-b614-4609033dbe94",
   "metadata": {},
   "outputs": [
    {
     "name": "stdout",
     "output_type": "stream",
     "text": [
      "Requirement already satisfied: pyodbc in d:\\anaconda\\lib\\site-packages (5.0.1)\n",
      "Requirement already satisfied: pandas in d:\\anaconda\\lib\\site-packages (2.1.4)\n",
      "Requirement already satisfied: sqlalchemy in d:\\anaconda\\lib\\site-packages (2.0.25)\n",
      "Requirement already satisfied: numpy<2,>=1.23.2 in d:\\anaconda\\lib\\site-packages (from pandas) (1.26.4)\n",
      "Requirement already satisfied: python-dateutil>=2.8.2 in d:\\anaconda\\lib\\site-packages (from pandas) (2.8.2)\n",
      "Requirement already satisfied: pytz>=2020.1 in d:\\anaconda\\lib\\site-packages (from pandas) (2023.3.post1)\n",
      "Requirement already satisfied: tzdata>=2022.1 in d:\\anaconda\\lib\\site-packages (from pandas) (2023.3)\n",
      "Requirement already satisfied: typing-extensions>=4.6.0 in d:\\anaconda\\lib\\site-packages (from sqlalchemy) (4.9.0)\n",
      "Requirement already satisfied: greenlet!=0.4.17 in d:\\anaconda\\lib\\site-packages (from sqlalchemy) (3.0.1)\n",
      "Requirement already satisfied: six>=1.5 in d:\\anaconda\\lib\\site-packages (from python-dateutil>=2.8.2->pandas) (1.16.0)\n"
     ]
    }
   ],
   "source": [
    "!pip install pyodbc pandas sqlalchemy"
   ]
  },
  {
   "cell_type": "code",
   "execution_count": 119,
   "id": "20e86263-5af1-4b16-8f71-9e189dd90dd6",
   "metadata": {},
   "outputs": [
    {
     "name": "stderr",
     "output_type": "stream",
     "text": [
      "C:\\Users\\User\\AppData\\Local\\Temp\\ipykernel_5096\\2808510734.py:19: UserWarning: pandas only supports SQLAlchemy connectable (engine/connection) or database string URI or sqlite3 DBAPI2 connection. Other DBAPI2 objects are not tested. Please consider using SQLAlchemy.\n",
      "  df = pd.read_sql(query, conn)\n"
     ]
    }
   ],
   "source": [
    "import pyodbc\n",
    "import pandas as pd\n",
    "\n",
    "# Define connection parameters\n",
    "server = 'XXXXXXXXXXXXXX'\n",
    "database = 'XXXXXXXXXXXX'\n",
    "username = 'XXXXXXXXXXX'\n",
    "password = 'XXXXXX'\n",
    "driver = '{ODBC Driver 17 for SQL Server}'\n",
    "\n",
    "# Create connection string\n",
    "conn_str = f'DRIVER={driver};SERVER={server};DATABASE={database};UID={username};PWD={password}'\n",
    "\n",
    "# Establish connection\n",
    "conn = pyodbc.connect(conn_str)\n",
    "\n",
    "# Read data into a Pandas DataFrame\n",
    "query = \"SELECT * FROM [SalesLT].[Product]\"\n",
    "df = pd.read_sql(query, conn)\n",
    "\n",
    "# Display results\n",
    "#print(df)\n",
    "\n",
    "# Close connection\n",
    "conn.close()\n"
   ]
  },
  {
   "cell_type": "code",
   "execution_count": 120,
   "id": "5983b375-0841-4f33-a899-fe94ede08bc3",
   "metadata": {},
   "outputs": [
    {
     "name": "stderr",
     "output_type": "stream",
     "text": [
      "C:\\Users\\User\\AppData\\Local\\Temp\\ipykernel_5096\\2900429552.py:4: SettingWithCopyWarning: \n",
      "A value is trying to be set on a copy of a slice from a DataFrame.\n",
      "Try using .loc[row_indexer,col_indexer] = value instead\n",
      "\n",
      "See the caveats in the documentation: https://pandas.pydata.org/pandas-docs/stable/user_guide/indexing.html#returning-a-view-versus-a-copy\n",
      "  data.loc[:,'Date'] = datetime.today().date()\n",
      "C:\\Users\\User\\AppData\\Local\\Temp\\ipykernel_5096\\2900429552.py:5: SettingWithCopyWarning: \n",
      "A value is trying to be set on a copy of a slice from a DataFrame.\n",
      "Try using .loc[row_indexer,col_indexer] = value instead\n",
      "\n",
      "See the caveats in the documentation: https://pandas.pydata.org/pandas-docs/stable/user_guide/indexing.html#returning-a-view-versus-a-copy\n",
      "  data['ModifiedDate'] = pd.to_datetime(data['ModifiedDate']).dt.date\n",
      "C:\\Users\\User\\AppData\\Local\\Temp\\ipykernel_5096\\2900429552.py:6: SettingWithCopyWarning: \n",
      "A value is trying to be set on a copy of a slice from a DataFrame.\n",
      "Try using .loc[row_indexer,col_indexer] = value instead\n",
      "\n",
      "See the caveats in the documentation: https://pandas.pydata.org/pandas-docs/stable/user_guide/indexing.html#returning-a-view-versus-a-copy\n",
      "  data['ModifiedDate'] = pd.to_datetime(data['ModifiedDate'], errors='coerce')\n"
     ]
    }
   ],
   "source": [
    "import pandas as pd\n",
    "from datetime import datetime\n",
    "data=df[['ProductID','Name','Color','StandardCost','Size','Weight','SellStartDate','ModifiedDate']]\n",
    "data.loc[:,'Date'] = datetime.today().date()\n",
    "data['ModifiedDate'] = pd.to_datetime(data['ModifiedDate']).dt.date\n",
    "data['ModifiedDate'] = pd.to_datetime(data['ModifiedDate'], errors='coerce')\n",
    "df=data.loc[data['ModifiedDate']=='2008-03-12']\n",
    "def handling_missing_data(df):\n",
    "    df.loc[:,'Color']=df['Color'].fillna(df['Color'].mode()[0])\n",
    "    df.loc[:,'Size']=df['Size'].fillna(df['Size'].mode()[0])\n",
    "    df.loc[:,'Weight']=df['Weight'].fillna(df['Weight'].mode()[0])\n",
    "    df.loc[:,'StandardCost']=df['StandardCost'].fillna(df['StandardCost'].mode()[0])\n",
    "    return(df)\n",
    "final_df=handling_missing_data(df)\n",
    "final_df.to_csv('final_data_2')"
   ]
  },
  {
   "cell_type": "code",
   "execution_count": null,
   "id": "6c7a13e1-5946-49f1-bc05-e238facb9b21",
   "metadata": {},
   "outputs": [],
   "source": []
  }
 ],
 "metadata": {
  "kernelspec": {
   "display_name": "Python 3 (ipykernel)",
   "language": "python",
   "name": "python3"
  },
  "language_info": {
   "codemirror_mode": {
    "name": "ipython",
    "version": 3
   },
   "file_extension": ".py",
   "mimetype": "text/x-python",
   "name": "python",
   "nbconvert_exporter": "python",
   "pygments_lexer": "ipython3",
   "version": "3.11.7"
  }
 },
 "nbformat": 4,
 "nbformat_minor": 5
}
