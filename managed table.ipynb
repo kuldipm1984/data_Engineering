{
 "cells": [
  {
   "cell_type": "code",
   "execution_count": 0,
   "metadata": {
    "application/vnd.databricks.v1+cell": {
     "cellMetadata": {
      "byteLimit": 2048000,
      "rowLimit": 10000
     },
     "inputWidgets": {},
     "nuid": "6e043e0f-59ca-45df-a7e2-e95639fd0376",
     "showTitle": false,
     "tableResultSettingsMap": {},
     "title": ""
    }
   },
   "outputs": [],
   "source": [
    "%run \"./config\""
   ]
  },
  {
   "cell_type": "code",
   "execution_count": 0,
   "metadata": {
    "application/vnd.databricks.v1+cell": {
     "cellMetadata": {
      "byteLimit": 2048000,
      "rowLimit": 10000
     },
     "inputWidgets": {},
     "nuid": "7c8e29c8-3405-477a-81d3-4bc0d532209a",
     "showTitle": false,
     "tableResultSettingsMap": {},
     "title": ""
    }
   },
   "outputs": [],
   "source": [
    "spark.conf.set(\n",
    "    \"fs.azure.account.key.storekm01.dfs.core.windows.net\",\n",
    "    f'{key}'\n",
    ")"
   ]
  },
  {
   "cell_type": "code",
   "execution_count": 0,
   "metadata": {
    "application/vnd.databricks.v1+cell": {
     "cellMetadata": {
      "byteLimit": 2048000,
      "rowLimit": 10000
     },
     "inputWidgets": {},
     "nuid": "a7df3e13-db16-4706-b345-d797a8ba9079",
     "showTitle": false,
     "tableResultSettingsMap": {},
     "title": ""
    },
    "jupyter": {
     "outputs_hidden": true
    }
   },
   "outputs": [
    {
     "output_type": "display_data",
     "data": {
      "text/html": [
       "<style scoped>\n",
       "  .table-result-container {\n",
       "    max-height: 300px;\n",
       "    overflow: auto;\n",
       "  }\n",
       "  table, th, td {\n",
       "    border: 1px solid black;\n",
       "    border-collapse: collapse;\n",
       "  }\n",
       "  th, td {\n",
       "    padding: 5px;\n",
       "  }\n",
       "  th {\n",
       "    text-align: left;\n",
       "  }\n",
       "</style><div class='table-result-container'><table class='table-result'><thead style='background-color: white'><tr><th>path</th><th>name</th><th>size</th><th>modificationTime</th></tr></thead><tbody><tr><td>abfss://rawdata@storekm01.dfs.core.windows.net/2025-01-01/</td><td>2025-01-01/</td><td>0</td><td>1736093953000</td></tr><tr><td>abfss://rawdata@storekm01.dfs.core.windows.net/2025-01-02/</td><td>2025-01-02/</td><td>0</td><td>1736093973000</td></tr><tr><td>abfss://rawdata@storekm01.dfs.core.windows.net/2025-01-03/</td><td>2025-01-03/</td><td>0</td><td>1736094000000</td></tr></tbody></table></div>"
      ]
     },
     "metadata": {
      "application/vnd.databricks.v1+output": {
       "addedWidgets": {},
       "aggData": [],
       "aggError": "",
       "aggOverflow": false,
       "aggSchema": [],
       "aggSeriesLimitReached": false,
       "aggType": "",
       "arguments": {},
       "columnCustomDisplayInfos": {},
       "data": [
        [
         "abfss://rawdata@storekm01.dfs.core.windows.net/2025-01-01/",
         "2025-01-01/",
         0,
         1736093953000
        ],
        [
         "abfss://rawdata@storekm01.dfs.core.windows.net/2025-01-02/",
         "2025-01-02/",
         0,
         1736093973000
        ],
        [
         "abfss://rawdata@storekm01.dfs.core.windows.net/2025-01-03/",
         "2025-01-03/",
         0,
         1736094000000
        ]
       ],
       "datasetInfos": [],
       "dbfsResultPath": null,
       "isJsonSchema": true,
       "metadata": {},
       "overflow": false,
       "plotOptions": {
        "customPlotOptions": {},
        "displayType": "table",
        "pivotAggregation": null,
        "pivotColumns": null,
        "xColumns": null,
        "yColumns": null
       },
       "removedWidgets": [],
       "schema": [
        {
         "metadata": "{}",
         "name": "path",
         "type": "\"string\""
        },
        {
         "metadata": "{}",
         "name": "name",
         "type": "\"string\""
        },
        {
         "metadata": "{}",
         "name": "size",
         "type": "\"long\""
        },
        {
         "metadata": "{}",
         "name": "modificationTime",
         "type": "\"long\""
        }
       ],
       "type": "table"
      }
     },
     "output_type": "display_data"
    },
    {
     "output_type": "stream",
     "name": "stdout",
     "output_type": "stream",
     "text": [
      "+-----------------+-----------------------+---------------+--------------------+--------------------+\n|ProductCategoryID|ParentProductCategoryID|           Name|             rowguid|        ModifiedDate|\n+-----------------+-----------------------+---------------+--------------------+--------------------+\n|                1|                      1|          Bikes|cfbda25c-df71-47a...|2002-06-01T00:00:...|\n|                2|                      2|     Components|c657828d-d808-4ab...|2002-06-01T00:00:...|\n|                3|                      3|       Clothing|10a7c342-ca82-48d...|2002-06-01T00:00:...|\n|                4|                      4|    Accessories|2be3be36-d9a2-4ee...|2002-06-01T00:00:...|\n|                5|                      1| Mountain Bikes|2d364ade-264a-433...|2002-06-01T00:00:...|\n|                6|                      1|     Road Bikes|000310c0-bcc8-42c...|2002-06-01T00:00:...|\n|                7|                      1|  Touring Bikes|02c5061d-ecdc-427...|2002-06-01T00:00:...|\n|                8|                      2|     Handlebars|3ef2c725-7135-4c8...|2002-06-01T00:00:...|\n|                9|                      2|Bottom Brackets|a9e54089-8a1e-4cf...|2002-06-01T00:00:...|\n|               10|                      2|         Brakes|d43ba4a3-ef0d-426...|2002-06-01T00:00:...|\n|               11|                      2|         Chains|e93a7231-f16c-4b0...|2002-06-01T00:00:...|\n|               12|                      2|      Cranksets|4f644521-422b-4f1...|2002-06-01T00:00:...|\n|               13|                      2|    Derailleurs|1830d70c-aa2a-40c...|2002-06-01T00:00:...|\n|               14|                      2|          Forks|b5f9ba42-b69b-4fd...|2002-06-01T00:00:...|\n|               15|                      2|       Headsets|7c782bbe-5a16-495...|2002-06-01T00:00:...|\n|               16|                      2|Mountain Frames|61b21b65-e16a-4be...|2002-06-01T00:00:...|\n|               17|                      2|         Pedals|6d24ac07-7a84-484...|2002-06-01T00:00:...|\n|               18|                      2|    Road Frames|5515f857-075b-4f9...|2002-06-01T00:00:...|\n|               19|                      2|        Saddles|049fffa3-9d30-46d...|2002-06-01T00:00:...|\n|               20|                      2| Touring Frames|d2e3f1a8-56c4-4f3...|2002-06-01T00:00:...|\n+-----------------+-----------------------+---------------+--------------------+--------------------+\nonly showing top 20 rows\n"
     ]
    },
    {
     "output_type": "stream",
     "name": "stdout",
     "output_type": "stream",
     "text": [
      "+---------+--------------------+-------------+-----+------------+---------+----+-------+-----------------+--------------+--------------------+--------------------+----------------+--------------------+----------------------+--------------------+--------------------+\n|ProductID|                Name|ProductNumber|Color|StandardCost|ListPrice|Size| Weight|ProductCategoryID|ProductModelID|       SellStartDate|         SellEndDate|DiscontinuedDate|      ThumbNailPhoto|ThumbnailPhotoFileName|             rowguid|        ModifiedDate|\n+---------+--------------------+-------------+-----+------------+---------+----+-------+-----------------+--------------+--------------------+--------------------+----------------+--------------------+----------------------+--------------------+--------------------+\n|      680|HL Road Frame - B...|   FR-R92B-58|Black|   1059.3100|1431.5000|  58|1016.04|               18|             6|2002-06-01T00:00:...|                NULL|            NULL|R0lGODlhUAAxAPcAA...|  no_image_availabl...|43dd68d6-14a4-461...|2008-03-11T10:01:...|\n|      706|HL Road Frame - R...|   FR-R92R-58|  Red|   1059.3100|1431.5000|  58|1016.04|               18|             6|2002-06-01T00:00:...|                NULL|            NULL|R0lGODlhUAAxAPcAA...|  no_image_availabl...|9540ff17-2712-4c9...|2008-03-11T10:01:...|\n|      707|Sport-100 Helmet,...|    HL-U509-R|  Red|     13.0863|  34.9900|NULL|   NULL|               35|            33|2005-07-01T00:00:...|                NULL|            NULL|R0lGODlhUAAxAPcAA...|  no_image_availabl...|2e1ef41a-c08a-4ff...|2008-03-11T10:01:...|\n|      708|Sport-100 Helmet,...|      HL-U509|Black|     13.0863|  34.9900|NULL|   NULL|               35|            33|2005-07-01T00:00:...|                NULL|            NULL|R0lGODlhUAAxAPcAA...|  no_image_availabl...|a25a44fb-c2de-426...|2008-03-11T10:01:...|\n|      709|Mountain Bike Soc...|    SO-B909-M|White|      3.3963|   9.5000|   M|   NULL|               27|            18|2005-07-01T00:00:...|2006-06-30T00:00:...|            NULL|R0lGODlhUAAxAPcAA...|  no_image_availabl...|18f95f47-1540-4e0...|2008-03-11T10:01:...|\n|      710|Mountain Bike Soc...|    SO-B909-L|White|      3.3963|   9.5000|   L|   NULL|               27|            18|2005-07-01T00:00:...|2006-06-30T00:00:...|            NULL|R0lGODlhUAAxAPcAA...|  no_image_availabl...|161c035e-21b3-4e1...|2008-03-11T10:01:...|\n|      711|Sport-100 Helmet,...|    HL-U509-B| Blue|     13.0863|  34.9900|NULL|   NULL|               35|            33|2005-07-01T00:00:...|                NULL|            NULL|R0lGODlhUAAxAPcAA...|  no_image_availabl...|fd7c0858-4179-48c...|2008-03-11T10:01:...|\n|      712|        AWC Logo Cap|      CA-1098|Multi|      6.9223|   8.9900|NULL|   NULL|               23|             2|2005-07-01T00:00:...|                NULL|            NULL|R0lGODlhUAAxAPcAA...|  no_image_availabl...|b9ede243-a6f4-462...|2008-03-11T10:01:...|\n|      713|Long-Sleeve Logo ...|    LJ-0192-S|Multi|     38.4923|  49.9900|   S|   NULL|               25|            11|2005-07-01T00:00:...|                NULL|            NULL|R0lGODlhUAAyAPcAA...|  awc_jersey_male_s...|fd449c82-a259-4fa...|2008-03-11T10:01:...|\n|      714|Long-Sleeve Logo ...|    LJ-0192-M|Multi|     38.4923|  49.9900|   M|   NULL|               25|            11|2005-07-01T00:00:...|                NULL|            NULL|R0lGODlhUAAyAPcAA...|  awc_jersey_male_s...|6a290063-a0cf-432...|2008-03-11T10:01:...|\n|      715|Long-Sleeve Logo ...|    LJ-0192-L|Multi|     38.4923|  49.9900|   L|   NULL|               25|            11|2005-07-01T00:00:...|                NULL|            NULL|R0lGODlhUAAyAPcAA...|  awc_jersey_male_s...|34cf5ef5-c077-4ea...|2008-03-11T10:01:...|\n|      716|Long-Sleeve Logo ...|    LJ-0192-X|Multi|     38.4923|  49.9900|  XL|   NULL|               25|            11|2005-07-01T00:00:...|                NULL|            NULL|R0lGODlhUAAyAPcAA...|  awc_jersey_male_s...|6ec47ec9-c041-4dd...|2008-03-11T10:01:...|\n|      717|HL Road Frame - R...|   FR-R92R-62|  Red|    868.6342|1431.5000|  62|1043.26|               18|             6|2005-07-01T00:00:...|                NULL|            NULL|R0lGODlhUAAxAPcAA...|  no_image_availabl...|052e4f8b-0a2a-46b...|2008-03-11T10:01:...|\n|      718|HL Road Frame - R...|   FR-R92R-44|  Red|    868.6342|1431.5000|  44| 961.61|               18|             6|2005-07-01T00:00:...|                NULL|            NULL|R0lGODlhUAAxAPcAA...|  no_image_availabl...|a88d3b54-2cae-43f...|2008-03-11T10:01:...|\n|      719|HL Road Frame - R...|   FR-R92R-48|  Red|    868.6342|1431.5000|  48| 979.75|               18|             6|2005-07-01T00:00:...|                NULL|            NULL|R0lGODlhUAAxAPcAA...|  no_image_availabl...|07befc9a-7634-402...|2008-03-11T10:01:...|\n|      720|HL Road Frame - R...|   FR-R92R-52|  Red|    868.6342|1431.5000|  52| 997.90|               18|             6|2005-07-01T00:00:...|                NULL|            NULL|R0lGODlhUAAxAPcAA...|  no_image_availabl...|fcfea68f-310e-4e6...|2008-03-11T10:01:...|\n|      721|HL Road Frame - R...|   FR-R92R-56|  Red|    868.6342|1431.5000|  56|1016.04|               18|             6|2005-07-01T00:00:...|                NULL|            NULL|R0lGODlhUAAxAPcAA...|  no_image_availabl...|56c85873-4993-41b...|2008-03-11T10:01:...|\n|      722|LL Road Frame - B...|   FR-R38B-58|Black|    204.6251| 337.2200|  58|1115.83|               18|             9|2005-07-01T00:00:...|                NULL|            NULL|R0lGODlhUAAxAPcAA...|  no_image_availabl...|2140f256-f705-4d6...|2008-03-11T10:01:...|\n|      723|LL Road Frame - B...|   FR-R38B-60|Black|    204.6251| 337.2200|  60|1124.90|               18|             9|2005-07-01T00:00:...|                NULL|            NULL|R0lGODlhUAAxAPcAA...|  no_image_availabl...|aa95e2a5-e7c4-4b7...|2008-03-11T10:01:...|\n|      724|LL Road Frame - B...|   FR-R38B-62|Black|    204.6251| 337.2200|  62|1133.98|               18|             9|2005-07-01T00:00:...|                NULL|            NULL|R0lGODlhUAAxAPcAA...|  no_image_availabl...|5247be33-50bf-452...|2008-03-11T10:01:...|\n+---------+--------------------+-------------+-----+------------+---------+----+-------+-----------------+--------------+--------------------+--------------------+----------------+--------------------+----------------------+--------------------+--------------------+\nonly showing top 20 rows\n"
     ]
    },
    {
     "output_type": "stream",
     "name": "stdout",
     "output_type": "stream",
     "text": [
      "+---------+--------------------+-------------+-----+------------+---------+----+-------+--------------+--------------------+--------------------+----------------+--------------------+----------------------+--------------------+--------------------+-----------------+-----------------------+-------------+--------------------+--------------------+\n|ProductID|                Name|ProductNumber|Color|StandardCost|ListPrice|Size| Weight|ProductModelID|       SellStartDate|         SellEndDate|DiscontinuedDate|      ThumbNailPhoto|ThumbnailPhotoFileName|             rowguid|        ModifiedDate|ProductCategoryID|ParentProductCategoryID|Category Name|             rowguid|        ModifiedDate|\n+---------+--------------------+-------------+-----+------------+---------+----+-------+--------------+--------------------+--------------------+----------------+--------------------+----------------------+--------------------+--------------------+-----------------+-----------------------+-------------+--------------------+--------------------+\n|      680|HL Road Frame - B...|   FR-R92B-58|Black|   1059.3100|1431.5000|  58|1016.04|             6|2002-06-01T00:00:...|                NULL|            NULL|R0lGODlhUAAxAPcAA...|  no_image_availabl...|43dd68d6-14a4-461...|2008-03-11T10:01:...|               18|                      2|  Road Frames|5515f857-075b-4f9...|2002-06-01T00:00:...|\n|      706|HL Road Frame - R...|   FR-R92R-58|  Red|   1059.3100|1431.5000|  58|1016.04|             6|2002-06-01T00:00:...|                NULL|            NULL|R0lGODlhUAAxAPcAA...|  no_image_availabl...|9540ff17-2712-4c9...|2008-03-11T10:01:...|               18|                      2|  Road Frames|5515f857-075b-4f9...|2002-06-01T00:00:...|\n|      707|Sport-100 Helmet,...|    HL-U509-R|  Red|     13.0863|  34.9900|NULL|   NULL|            33|2005-07-01T00:00:...|                NULL|            NULL|R0lGODlhUAAxAPcAA...|  no_image_availabl...|2e1ef41a-c08a-4ff...|2008-03-11T10:01:...|               35|                      4|      Helmets|f5e07a33-c9e0-439...|2002-06-01T00:00:...|\n|      708|Sport-100 Helmet,...|      HL-U509|Black|     13.0863|  34.9900|NULL|   NULL|            33|2005-07-01T00:00:...|                NULL|            NULL|R0lGODlhUAAxAPcAA...|  no_image_availabl...|a25a44fb-c2de-426...|2008-03-11T10:01:...|               35|                      4|      Helmets|f5e07a33-c9e0-439...|2002-06-01T00:00:...|\n|      709|Mountain Bike Soc...|    SO-B909-M|White|      3.3963|   9.5000|   M|   NULL|            18|2005-07-01T00:00:...|2006-06-30T00:00:...|            NULL|R0lGODlhUAAxAPcAA...|  no_image_availabl...|18f95f47-1540-4e0...|2008-03-11T10:01:...|               27|                      3|        Socks|701019c3-09fe-494...|2002-06-01T00:00:...|\n|      710|Mountain Bike Soc...|    SO-B909-L|White|      3.3963|   9.5000|   L|   NULL|            18|2005-07-01T00:00:...|2006-06-30T00:00:...|            NULL|R0lGODlhUAAxAPcAA...|  no_image_availabl...|161c035e-21b3-4e1...|2008-03-11T10:01:...|               27|                      3|        Socks|701019c3-09fe-494...|2002-06-01T00:00:...|\n|      711|Sport-100 Helmet,...|    HL-U509-B| Blue|     13.0863|  34.9900|NULL|   NULL|            33|2005-07-01T00:00:...|                NULL|            NULL|R0lGODlhUAAxAPcAA...|  no_image_availabl...|fd7c0858-4179-48c...|2008-03-11T10:01:...|               35|                      4|      Helmets|f5e07a33-c9e0-439...|2002-06-01T00:00:...|\n|      712|        AWC Logo Cap|      CA-1098|Multi|      6.9223|   8.9900|NULL|   NULL|             2|2005-07-01T00:00:...|                NULL|            NULL|R0lGODlhUAAxAPcAA...|  no_image_availabl...|b9ede243-a6f4-462...|2008-03-11T10:01:...|               23|                      3|         Caps|430dd6a8-a755-4b2...|2002-06-01T00:00:...|\n|      713|Long-Sleeve Logo ...|    LJ-0192-S|Multi|     38.4923|  49.9900|   S|   NULL|            11|2005-07-01T00:00:...|                NULL|            NULL|R0lGODlhUAAyAPcAA...|  awc_jersey_male_s...|fd449c82-a259-4fa...|2008-03-11T10:01:...|               25|                      3|      Jerseys|09e91437-ba4f-4b1...|2002-06-01T00:00:...|\n|      714|Long-Sleeve Logo ...|    LJ-0192-M|Multi|     38.4923|  49.9900|   M|   NULL|            11|2005-07-01T00:00:...|                NULL|            NULL|R0lGODlhUAAyAPcAA...|  awc_jersey_male_s...|6a290063-a0cf-432...|2008-03-11T10:01:...|               25|                      3|      Jerseys|09e91437-ba4f-4b1...|2002-06-01T00:00:...|\n|      715|Long-Sleeve Logo ...|    LJ-0192-L|Multi|     38.4923|  49.9900|   L|   NULL|            11|2005-07-01T00:00:...|                NULL|            NULL|R0lGODlhUAAyAPcAA...|  awc_jersey_male_s...|34cf5ef5-c077-4ea...|2008-03-11T10:01:...|               25|                      3|      Jerseys|09e91437-ba4f-4b1...|2002-06-01T00:00:...|\n|      716|Long-Sleeve Logo ...|    LJ-0192-X|Multi|     38.4923|  49.9900|  XL|   NULL|            11|2005-07-01T00:00:...|                NULL|            NULL|R0lGODlhUAAyAPcAA...|  awc_jersey_male_s...|6ec47ec9-c041-4dd...|2008-03-11T10:01:...|               25|                      3|      Jerseys|09e91437-ba4f-4b1...|2002-06-01T00:00:...|\n|      717|HL Road Frame - R...|   FR-R92R-62|  Red|    868.6342|1431.5000|  62|1043.26|             6|2005-07-01T00:00:...|                NULL|            NULL|R0lGODlhUAAxAPcAA...|  no_image_availabl...|052e4f8b-0a2a-46b...|2008-03-11T10:01:...|               18|                      2|  Road Frames|5515f857-075b-4f9...|2002-06-01T00:00:...|\n|      718|HL Road Frame - R...|   FR-R92R-44|  Red|    868.6342|1431.5000|  44| 961.61|             6|2005-07-01T00:00:...|                NULL|            NULL|R0lGODlhUAAxAPcAA...|  no_image_availabl...|a88d3b54-2cae-43f...|2008-03-11T10:01:...|               18|                      2|  Road Frames|5515f857-075b-4f9...|2002-06-01T00:00:...|\n|      719|HL Road Frame - R...|   FR-R92R-48|  Red|    868.6342|1431.5000|  48| 979.75|             6|2005-07-01T00:00:...|                NULL|            NULL|R0lGODlhUAAxAPcAA...|  no_image_availabl...|07befc9a-7634-402...|2008-03-11T10:01:...|               18|                      2|  Road Frames|5515f857-075b-4f9...|2002-06-01T00:00:...|\n|      720|HL Road Frame - R...|   FR-R92R-52|  Red|    868.6342|1431.5000|  52| 997.90|             6|2005-07-01T00:00:...|                NULL|            NULL|R0lGODlhUAAxAPcAA...|  no_image_availabl...|fcfea68f-310e-4e6...|2008-03-11T10:01:...|               18|                      2|  Road Frames|5515f857-075b-4f9...|2002-06-01T00:00:...|\n|      721|HL Road Frame - R...|   FR-R92R-56|  Red|    868.6342|1431.5000|  56|1016.04|             6|2005-07-01T00:00:...|                NULL|            NULL|R0lGODlhUAAxAPcAA...|  no_image_availabl...|56c85873-4993-41b...|2008-03-11T10:01:...|               18|                      2|  Road Frames|5515f857-075b-4f9...|2002-06-01T00:00:...|\n|      722|LL Road Frame - B...|   FR-R38B-58|Black|    204.6251| 337.2200|  58|1115.83|             9|2005-07-01T00:00:...|                NULL|            NULL|R0lGODlhUAAxAPcAA...|  no_image_availabl...|2140f256-f705-4d6...|2008-03-11T10:01:...|               18|                      2|  Road Frames|5515f857-075b-4f9...|2002-06-01T00:00:...|\n|      723|LL Road Frame - B...|   FR-R38B-60|Black|    204.6251| 337.2200|  60|1124.90|             9|2005-07-01T00:00:...|                NULL|            NULL|R0lGODlhUAAxAPcAA...|  no_image_availabl...|aa95e2a5-e7c4-4b7...|2008-03-11T10:01:...|               18|                      2|  Road Frames|5515f857-075b-4f9...|2002-06-01T00:00:...|\n|      724|LL Road Frame - B...|   FR-R38B-62|Black|    204.6251| 337.2200|  62|1133.98|             9|2005-07-01T00:00:...|                NULL|            NULL|R0lGODlhUAAxAPcAA...|  no_image_availabl...|5247be33-50bf-452...|2008-03-11T10:01:...|               18|                      2|  Road Frames|5515f857-075b-4f9...|2002-06-01T00:00:...|\n+---------+--------------------+-------------+-----+------------+---------+----+-------+--------------+--------------------+--------------------+----------------+--------------------+----------------------+--------------------+--------------------+-----------------+-----------------------+-------------+--------------------+--------------------+\nonly showing top 20 rows\n"
     ]
    },
    {
     "output_type": "stream",
     "name": "stdout",
     "output_type": "stream",
     "text": [
      "+---------+--------------------+------------+---------+-------+----+-------------+\n|ProductID|                Name|StandardCost|ListPrice| Weight|Size|Category Name|\n+---------+--------------------+------------+---------+-------+----+-------------+\n|      680|HL Road Frame - B...|   1059.3100|1431.5000|1016.04|  58|  Road Frames|\n|      706|HL Road Frame - R...|   1059.3100|1431.5000|1016.04|  58|  Road Frames|\n|      707|Sport-100 Helmet,...|     13.0863|  34.9900|   NULL|NULL|      Helmets|\n|      708|Sport-100 Helmet,...|     13.0863|  34.9900|   NULL|NULL|      Helmets|\n|      709|Mountain Bike Soc...|      3.3963|   9.5000|   NULL|   M|        Socks|\n|      710|Mountain Bike Soc...|      3.3963|   9.5000|   NULL|   L|        Socks|\n|      711|Sport-100 Helmet,...|     13.0863|  34.9900|   NULL|NULL|      Helmets|\n|      712|        AWC Logo Cap|      6.9223|   8.9900|   NULL|NULL|         Caps|\n|      713|Long-Sleeve Logo ...|     38.4923|  49.9900|   NULL|   S|      Jerseys|\n|      714|Long-Sleeve Logo ...|     38.4923|  49.9900|   NULL|   M|      Jerseys|\n|      715|Long-Sleeve Logo ...|     38.4923|  49.9900|   NULL|   L|      Jerseys|\n|      716|Long-Sleeve Logo ...|     38.4923|  49.9900|   NULL|  XL|      Jerseys|\n|      717|HL Road Frame - R...|    868.6342|1431.5000|1043.26|  62|  Road Frames|\n|      718|HL Road Frame - R...|    868.6342|1431.5000| 961.61|  44|  Road Frames|\n|      719|HL Road Frame - R...|    868.6342|1431.5000| 979.75|  48|  Road Frames|\n|      720|HL Road Frame - R...|    868.6342|1431.5000| 997.90|  52|  Road Frames|\n|      721|HL Road Frame - R...|    868.6342|1431.5000|1016.04|  56|  Road Frames|\n|      722|LL Road Frame - B...|    204.6251| 337.2200|1115.83|  58|  Road Frames|\n|      723|LL Road Frame - B...|    204.6251| 337.2200|1124.90|  60|  Road Frames|\n|      724|LL Road Frame - B...|    204.6251| 337.2200|1133.98|  62|  Road Frames|\n+---------+--------------------+------------+---------+-------+----+-------------+\nonly showing top 20 rows\n"
     ]
    },
    {
     "output_type": "stream",
     "name": "stdout",
     "output_type": "stream",
     "text": [
      "+---------+--------------------+------------+---------+-------+----+-------------+\n|ProductID|        Product_Name|StandardCost|ListPrice| Weight|Size|Category_Name|\n+---------+--------------------+------------+---------+-------+----+-------------+\n|      680|HL Road Frame - B...|   1059.3100|1431.5000|1016.04|  58|  Road Frames|\n|      706|HL Road Frame - R...|   1059.3100|1431.5000|1016.04|  58|  Road Frames|\n|      707|Sport-100 Helmet,...|     13.0863|  34.9900|   NULL|NULL|      Helmets|\n|      708|Sport-100 Helmet,...|     13.0863|  34.9900|   NULL|NULL|      Helmets|\n|      709|Mountain Bike Soc...|      3.3963|   9.5000|   NULL|   M|        Socks|\n|      710|Mountain Bike Soc...|      3.3963|   9.5000|   NULL|   L|        Socks|\n|      711|Sport-100 Helmet,...|     13.0863|  34.9900|   NULL|NULL|      Helmets|\n|      712|        AWC Logo Cap|      6.9223|   8.9900|   NULL|NULL|         Caps|\n|      713|Long-Sleeve Logo ...|     38.4923|  49.9900|   NULL|   S|      Jerseys|\n|      714|Long-Sleeve Logo ...|     38.4923|  49.9900|   NULL|   M|      Jerseys|\n|      715|Long-Sleeve Logo ...|     38.4923|  49.9900|   NULL|   L|      Jerseys|\n|      716|Long-Sleeve Logo ...|     38.4923|  49.9900|   NULL|  XL|      Jerseys|\n|      717|HL Road Frame - R...|    868.6342|1431.5000|1043.26|  62|  Road Frames|\n|      718|HL Road Frame - R...|    868.6342|1431.5000| 961.61|  44|  Road Frames|\n|      719|HL Road Frame - R...|    868.6342|1431.5000| 979.75|  48|  Road Frames|\n|      720|HL Road Frame - R...|    868.6342|1431.5000| 997.90|  52|  Road Frames|\n|      721|HL Road Frame - R...|    868.6342|1431.5000|1016.04|  56|  Road Frames|\n|      722|LL Road Frame - B...|    204.6251| 337.2200|1115.83|  58|  Road Frames|\n|      723|LL Road Frame - B...|    204.6251| 337.2200|1124.90|  60|  Road Frames|\n|      724|LL Road Frame - B...|    204.6251| 337.2200|1133.98|  62|  Road Frames|\n+---------+--------------------+------------+---------+-------+----+-------------+\nonly showing top 20 rows\n"
     ]
    },
    {
     "output_type": "stream",
     "name": "stdout",
     "output_type": "stream",
     "text": [
      "root\n |-- ProductID: string (nullable = true)\n |-- Product_Name: string (nullable = true)\n |-- StandardCost: string (nullable = true)\n |-- ListPrice: string (nullable = true)\n |-- Weight: string (nullable = true)\n |-- Size: string (nullable = true)\n |-- Category_Name: string (nullable = true)\n\n"
     ]
    },
    {
     "output_type": "stream",
     "name": "stdout",
     "output_type": "stream",
     "text": [
      "root\n |-- ProductID: integer (nullable = true)\n |-- Product_Name: string (nullable = true)\n |-- StandardCost: double (nullable = true)\n |-- ListPrice: double (nullable = true)\n |-- Weight: double (nullable = true)\n |-- Size: double (nullable = true)\n |-- Category_Name: string (nullable = true)\n\n"
     ]
    }
   ],
   "source": [
    "%run \"./product data\""
   ]
  },
  {
   "cell_type": "code",
   "execution_count": 0,
   "metadata": {
    "application/vnd.databricks.v1+cell": {
     "cellMetadata": {
      "byteLimit": 2048000,
      "rowLimit": 10000
     },
     "inputWidgets": {},
     "nuid": "be56134a-7f3a-48c4-9451-564c2ca3fad1",
     "showTitle": false,
     "tableResultSettingsMap": {},
     "title": ""
    },
    "jupyter": {
     "outputs_hidden": true
    }
   },
   "outputs": [
    {
     "output_type": "display_data",
     "data": {
      "text/html": [
       "<style scoped>\n",
       "  .table-result-container {\n",
       "    max-height: 300px;\n",
       "    overflow: auto;\n",
       "  }\n",
       "  table, th, td {\n",
       "    border: 1px solid black;\n",
       "    border-collapse: collapse;\n",
       "  }\n",
       "  th, td {\n",
       "    padding: 5px;\n",
       "  }\n",
       "  th {\n",
       "    text-align: left;\n",
       "  }\n",
       "</style><div class='table-result-container'><table class='table-result'><thead style='background-color: white'><tr><th>path</th><th>name</th><th>size</th><th>modificationTime</th></tr></thead><tbody><tr><td>abfss://rawdata@storekm01.dfs.core.windows.net/2025-01-01/</td><td>2025-01-01/</td><td>0</td><td>1736093953000</td></tr><tr><td>abfss://rawdata@storekm01.dfs.core.windows.net/2025-01-02/</td><td>2025-01-02/</td><td>0</td><td>1736093973000</td></tr><tr><td>abfss://rawdata@storekm01.dfs.core.windows.net/2025-01-03/</td><td>2025-01-03/</td><td>0</td><td>1736094000000</td></tr></tbody></table></div>"
      ]
     },
     "metadata": {
      "application/vnd.databricks.v1+output": {
       "addedWidgets": {},
       "aggData": [],
       "aggError": "",
       "aggOverflow": false,
       "aggSchema": [],
       "aggSeriesLimitReached": false,
       "aggType": "",
       "arguments": {},
       "columnCustomDisplayInfos": {},
       "data": [
        [
         "abfss://rawdata@storekm01.dfs.core.windows.net/2025-01-01/",
         "2025-01-01/",
         0,
         1736093953000
        ],
        [
         "abfss://rawdata@storekm01.dfs.core.windows.net/2025-01-02/",
         "2025-01-02/",
         0,
         1736093973000
        ],
        [
         "abfss://rawdata@storekm01.dfs.core.windows.net/2025-01-03/",
         "2025-01-03/",
         0,
         1736094000000
        ]
       ],
       "datasetInfos": [],
       "dbfsResultPath": null,
       "isJsonSchema": true,
       "metadata": {},
       "overflow": false,
       "plotOptions": {
        "customPlotOptions": {},
        "displayType": "table",
        "pivotAggregation": null,
        "pivotColumns": null,
        "xColumns": null,
        "yColumns": null
       },
       "removedWidgets": [],
       "schema": [
        {
         "metadata": "{}",
         "name": "path",
         "type": "\"string\""
        },
        {
         "metadata": "{}",
         "name": "name",
         "type": "\"string\""
        },
        {
         "metadata": "{}",
         "name": "size",
         "type": "\"long\""
        },
        {
         "metadata": "{}",
         "name": "modificationTime",
         "type": "\"long\""
        }
       ],
       "type": "table"
      }
     },
     "output_type": "display_data"
    },
    {
     "output_type": "stream",
     "name": "stdout",
     "output_type": "stream",
     "text": [
      "+----------+---------+-----+-----------+----------+----------+------+--------------------+--------------------+--------------------+-------------------+--------------------+------------+--------------------+--------------------+\n|CustomerID|NameStyle|Title|  FirstName|MiddleName|  LastName|Suffix|         CompanyName|         SalesPerson|        EmailAddress|              Phone|        PasswordHash|PasswordSalt|             rowguid|        ModifiedDate|\n+----------+---------+-----+-----------+----------+----------+------+--------------------+--------------------+--------------------+-------------------+--------------------+------------+--------------------+--------------------+\n|         1|    FALSE|  Mr.|    Orlando|        N.|       Gee|  NULL|        A Bike Store|adventure-works\\p...|orlando0@adventur...|       245-555-0173|L/Rlwxzp4w7RWmEgX...|    1KjXYs4=|3f5ae95e-b87d-4ae...|2005-08-01T00:00:...|\n|         2|    FALSE|  Mr.|      Keith|      NULL|    Harris|  NULL|  Progressive Sports|adventure-works\\d...|keith0@adventure-...|       170-555-0127|YPdtRdvqeAhj6wyxE...|    fs1ZGhY=|e552f657-a9af-4a7...|2006-08-01T00:00:...|\n|         3|    FALSE|  Ms.|      Donna|        F.|  Carreras|  NULL|Advanced Bike Com...|adventure-works\\j...|donna0@adventure-...|       279-555-0130|LNoK27abGQo48gGue...|    YTNH5Rw=|130774b1-db21-4ef...|2005-09-01T00:00:...|\n|         4|    FALSE|  Ms.|      Janet|        M.|     Gates|  NULL|Modular Cycle Sys...|adventure-works\\j...|janet1@adventure-...|       710-555-0173|ElzTpSNbUW1Ut+L5c...|    nm7D5e4=|ff862851-1daa-404...|2006-07-01T00:00:...|\n|         5|    FALSE|  Mr.|       Lucy|      NULL|Harrington|  NULL|Metropolitan Spor...|adventure-works\\shu0|lucy0@adventure-w...|       828-555-0186|KJqV15wsX3PG8TS5G...|    cNFKU4w=|83905bdc-6f5e-4f7...|2006-09-01T00:00:...|\n|         6|    FALSE|  Ms.|   Rosmarie|        J.|   Carroll|  NULL|Aerobic Exercise ...|adventure-works\\l...|rosmarie0@adventu...|       244-555-0112|OKT0scizCdIzymHHO...|    ihWf50M=|1a92df88-bfa2-467...|2007-09-01T00:00:...|\n|         7|    FALSE|  Mr.|    Dominic|        P.|      Gash|  NULL|    Associated Bikes|adventure-works\\shu0|dominic0@adventur...|       192-555-0173|ZccoP/jZGQm+Xpzc7...|    sPoUBSQ=|03e9273e-b193-448...|2006-07-01T00:00:...|\n|        10|    FALSE|  Ms.|   Kathleen|        M.|     Garza|  NULL|Rural Cycle Emporium|adventure-works\\j...|kathleen0@adventu...|       150-555-0127|Qa3aMCxNbVLGrc0b9...|    Ls05W3g=|cdb6698d-2ff1-4fb...|2006-09-01T00:00:...|\n|        11|    FALSE|  Ms.|  Katherine|      NULL|   Harding|  NULL|         Sharp Bikes|adventure-works\\j...|katherine0@advent...|       926-555-0159|uRlorVzDGNJIX9I+e...|    jpHKbqE=|750f3495-59c4-48a...|2005-08-01T00:00:...|\n|        12|    FALSE|  Mr.|     Johnny|        A.|    Caprio|   Jr.|Bikes and Motorbikes|adventure-works\\g...|johnny0@adventure...|       112-555-0191|jtF9jBoFYeJTaET7x...|    wVLnvHo=|947bcaf1-1f32-44f...|2006-08-01T00:00:...|\n|        16|    FALSE|  Mr.|Christopher|        R.|      Beck|   Jr.| Bulk Discount Store|adventure-works\\jae0|christopher1@adve...|1 (11) 500 555-0132|sKt9daCzEEKWAzivE...|    8KfYx/4=|c9381589-d31c-4ef...|2006-09-01T00:00:...|\n|        18|    FALSE|  Mr.|      David|        J.|       Liu|  NULL|       Catalog Store|adventure-works\\m...|david20@adventure...|       440-555-0132|61zeTkO+eI5g8GG0s...|    c7Ttvv0=|c04d6b4d-94c6-4c5...|2005-08-01T00:00:...|\n|        19|    FALSE|  Mr.|       John|        A.|    Beaver|  NULL|   Center Cycle Shop|adventure-works\\p...|john8@adventure-w...|       521-555-0195|DzbqWX7B3EK5Dub92...|    zXNgrJw=|69ae5d43-31be-4b7...|2007-04-01T00:00:...|\n|        20|    FALSE|  Ms.|       Jean|        P.|   Handley|  NULL|Central Discount ...|adventure-works\\d...|jean1@adventure-w...|       582-555-0113|o1GVo3vExeNzo0/ct...|    uMsvfdo=|e010c10a-f1c3-4bb...|2005-09-01T00:00:...|\n|        21|    FALSE| NULL|    Jinghao|      NULL|       Liu|  NULL|Chic Department S...|adventure-works\\j...|jinghao1@adventur...|       928-555-0116|IaD5AeqK9mRiIrJi/...|    p6pOqKc=|564e0b42-4609-43d...|2006-09-01T00:00:...|\n|        22|    FALSE|  Ms.|      Linda|        E.|   Burnett|  NULL|      Travel Systems|adventure-works\\j...|linda4@adventure-...|       121-555-0121|23AwhujCoXYSPiN/B...|    SmyIPjE=|9774aed6-d673-412...|2005-08-01T00:00:...|\n|        23|    FALSE|  Mr.|      Kerim|      NULL|     Hanif|  NULL|          Bike World|adventure-works\\shu0|kerim0@adventure-...|       216-555-0122|d0WSjosAd7Y3XOWjN...|    33g5co8=|733f8250-3251-4c2...|2006-09-01T00:00:...|\n|        24|    FALSE|  Mr.|      Kevin|      NULL|       Liu|  NULL|Eastside Departme...|adventure-works\\l...|kevin5@adventure-...|       926-555-0164|ylTpkIOHKLcjihNjS...|    TgZnUOg=|c111e51d-178d-4db...|2006-09-01T00:00:...|\n|        25|    FALSE|  Mr.|     Donald|        L.|   Blanton|  NULL|Coalition Bike Co...|adventure-works\\shu0|donald0@adventure...|       357-555-0161|pKYDelLBOZMO98GBz...|    jKtOaOw=|31d03546-fb2a-448...|2006-09-01T00:00:...|\n|        28|    FALSE|  Ms.|     Jackie|        E.| Blackwell|  NULL|Commuter Bicycle ...|adventure-works\\j...|jackie0@adventure...|       972-555-0163|wqhgKfOTfef4Zo3cb...|    SZ+r60o=|9b8a04a4-d909-4f4...|2007-08-01T00:00:...|\n+----------+---------+-----+-----------+----------+----------+------+--------------------+--------------------+--------------------+-------------------+--------------------+------------+--------------------+--------------------+\nonly showing top 20 rows\n"
     ]
    },
    {
     "output_type": "stream",
     "name": "stdout",
     "output_type": "stream",
     "text": [
      "root\n |-- CustomerID: string (nullable = true)\n |-- CompanyName: string (nullable = true)\n |-- SalesPerson: string (nullable = true)\n |-- EmailAddress: string (nullable = true)\n |-- Phone: string (nullable = true)\n |-- CustomerName: string (nullable = false)\n |-- Date: string (nullable = false)\n\n"
     ]
    },
    {
     "output_type": "stream",
     "name": "stdout",
     "output_type": "stream",
     "text": [
      "root\n |-- CustomerID: integer (nullable = true)\n |-- CompanyName: string (nullable = true)\n |-- SalesPerson: string (nullable = true)\n |-- EmailAddress: string (nullable = true)\n |-- Phone: string (nullable = true)\n |-- CustomerName: string (nullable = false)\n |-- Date: date (nullable = true)\n\n"
     ]
    },
    {
     "output_type": "stream",
     "name": "stdout",
     "output_type": "stream",
     "text": [
      "+----------+--------------------+--------------------+--------------------+-------------------+--------------------+----+\n|CustomerID|         CompanyName|         SalesPerson|        EmailAddress|              Phone|        CustomerName|Date|\n+----------+--------------------+--------------------+--------------------+-------------------+--------------------+----+\n|         1|        A Bike Store|adventure-works\\p...|orlando0@adventur...|       245-555-0173|  Mr. Orlando N. Gee|NULL|\n|         2|  Progressive Sports|adventure-works\\d...|keith0@adventure-...|       170-555-0127|   Mr. Keith  Harris|NULL|\n|         3|Advanced Bike Com...|adventure-works\\j...|donna0@adventure-...|       279-555-0130|Ms. Donna F. Carr...|NULL|\n|         4|Modular Cycle Sys...|adventure-works\\j...|janet1@adventure-...|       710-555-0173|  Ms. Janet M. Gates|NULL|\n|         5|Metropolitan Spor...|adventure-works\\shu0|lucy0@adventure-w...|       828-555-0186|Mr. Lucy  Harrington|NULL|\n|         6|Aerobic Exercise ...|adventure-works\\l...|rosmarie0@adventu...|       244-555-0112|Ms. Rosmarie J. C...|NULL|\n|         7|    Associated Bikes|adventure-works\\shu0|dominic0@adventur...|       192-555-0173| Mr. Dominic P. Gash|NULL|\n|        10|Rural Cycle Emporium|adventure-works\\j...|kathleen0@adventu...|       150-555-0127|Ms. Kathleen M. G...|NULL|\n|        11|         Sharp Bikes|adventure-works\\j...|katherine0@advent...|       926-555-0159|Ms. Katherine  Ha...|NULL|\n|        12|Bikes and Motorbikes|adventure-works\\g...|johnny0@adventure...|       112-555-0191|Mr. Johnny A. Caprio|NULL|\n|        16| Bulk Discount Store|adventure-works\\jae0|christopher1@adve...|1 (11) 500 555-0132|Mr. Christopher R...|NULL|\n|        18|       Catalog Store|adventure-works\\m...|david20@adventure...|       440-555-0132|    Mr. David J. Liu|NULL|\n|        19|   Center Cycle Shop|adventure-works\\p...|john8@adventure-w...|       521-555-0195|  Mr. John A. Beaver|NULL|\n|        20|Central Discount ...|adventure-works\\d...|jean1@adventure-w...|       582-555-0113| Ms. Jean P. Handley|NULL|\n|        21|Chic Department S...|adventure-works\\j...|jinghao1@adventur...|       928-555-0116|        Jinghao  Liu|NULL|\n|        22|      Travel Systems|adventure-works\\j...|linda4@adventure-...|       121-555-0121|Ms. Linda E. Burnett|NULL|\n|        23|          Bike World|adventure-works\\shu0|kerim0@adventure-...|       216-555-0122|    Mr. Kerim  Hanif|NULL|\n|        24|Eastside Departme...|adventure-works\\l...|kevin5@adventure-...|       926-555-0164|      Mr. Kevin  Liu|NULL|\n|        25|Coalition Bike Co...|adventure-works\\shu0|donald0@adventure...|       357-555-0161|Mr. Donald L. Bla...|NULL|\n|        28|Commuter Bicycle ...|adventure-works\\j...|jackie0@adventure...|       972-555-0163|Ms. Jackie E. Bla...|NULL|\n+----------+--------------------+--------------------+--------------------+-------------------+--------------------+----+\nonly showing top 20 rows\n"
     ]
    }
   ],
   "source": [
    "%run \"./customer data\""
   ]
  },
  {
   "cell_type": "code",
   "execution_count": 0,
   "metadata": {
    "application/vnd.databricks.v1+cell": {
     "cellMetadata": {
      "byteLimit": 2048000,
      "rowLimit": 10000
     },
     "inputWidgets": {},
     "nuid": "7184a4e1-6556-4431-9b51-664bd43ad971",
     "showTitle": false,
     "tableResultSettingsMap": {},
     "title": ""
    },
    "jupyter": {
     "outputs_hidden": true
    }
   },
   "outputs": [
    {
     "output_type": "display_data",
     "data": {
      "text/html": [
       "<style scoped>\n",
       "  .table-result-container {\n",
       "    max-height: 300px;\n",
       "    overflow: auto;\n",
       "  }\n",
       "  table, th, td {\n",
       "    border: 1px solid black;\n",
       "    border-collapse: collapse;\n",
       "  }\n",
       "  th, td {\n",
       "    padding: 5px;\n",
       "  }\n",
       "  th {\n",
       "    text-align: left;\n",
       "  }\n",
       "</style><div class='table-result-container'><table class='table-result'><thead style='background-color: white'><tr><th>path</th><th>name</th><th>size</th><th>modificationTime</th></tr></thead><tbody><tr><td>abfss://rawdata@storekm01.dfs.core.windows.net/2025-01-01/</td><td>2025-01-01/</td><td>0</td><td>1736093953000</td></tr><tr><td>abfss://rawdata@storekm01.dfs.core.windows.net/2025-01-02/</td><td>2025-01-02/</td><td>0</td><td>1736093973000</td></tr><tr><td>abfss://rawdata@storekm01.dfs.core.windows.net/2025-01-03/</td><td>2025-01-03/</td><td>0</td><td>1736094000000</td></tr></tbody></table></div>"
      ]
     },
     "metadata": {
      "application/vnd.databricks.v1+output": {
       "addedWidgets": {},
       "aggData": [],
       "aggError": "",
       "aggOverflow": false,
       "aggSchema": [],
       "aggSeriesLimitReached": false,
       "aggType": "",
       "arguments": {},
       "columnCustomDisplayInfos": {},
       "data": [
        [
         "abfss://rawdata@storekm01.dfs.core.windows.net/2025-01-01/",
         "2025-01-01/",
         0,
         1736093953000
        ],
        [
         "abfss://rawdata@storekm01.dfs.core.windows.net/2025-01-02/",
         "2025-01-02/",
         0,
         1736093973000
        ],
        [
         "abfss://rawdata@storekm01.dfs.core.windows.net/2025-01-03/",
         "2025-01-03/",
         0,
         1736094000000
        ]
       ],
       "datasetInfos": [],
       "dbfsResultPath": null,
       "isJsonSchema": true,
       "metadata": {},
       "overflow": false,
       "plotOptions": {
        "customPlotOptions": {},
        "displayType": "table",
        "pivotAggregation": null,
        "pivotColumns": null,
        "xColumns": null,
        "yColumns": null
       },
       "removedWidgets": [],
       "schema": [
        {
         "metadata": "{}",
         "name": "path",
         "type": "\"string\""
        },
        {
         "metadata": "{}",
         "name": "name",
         "type": "\"string\""
        },
        {
         "metadata": "{}",
         "name": "size",
         "type": "\"long\""
        },
        {
         "metadata": "{}",
         "name": "modificationTime",
         "type": "\"long\""
        }
       ],
       "type": "table"
      }
     },
     "output_type": "display_data"
    },
    {
     "output_type": "stream",
     "name": "stdout",
     "output_type": "stream",
     "text": [
      "+------------+------------------+--------+---------+---------+-----------------+---------+--------------------+--------------------+\n|SalesOrderID|SalesOrderDetailID|OrderQty|ProductID|UnitPrice|UnitPriceDiscount|LineTotal|             rowguid|        ModifiedDate|\n+------------+------------------+--------+---------+---------+-----------------+---------+--------------------+--------------------+\n|       71774|            110562|       1|      836|  356.898|                0|  356.898|e3a1994c-7a68-4ce...|2008-06-01T00:00:...|\n|       71774|            110563|       1|      822|  356.898|                0|  356.898|5c77f557-fdb6-43b...|2008-06-01T00:00:...|\n|       71776|            110567|       1|      907|     63.9|                0|     63.9|6dbfe398-d15d-425...|2008-06-01T00:00:...|\n|       71780|            110616|       4|      905|  218.454|                0|  873.816|377246c9-4483-48e...|2008-06-01T00:00:...|\n|       71780|            110617|       2|      983|  461.694|                0|  923.388|43a54bcd-536d-4a1...|2008-06-01T00:00:...|\n|       71780|            110618|       6|      988|  112.998|              0.4| 406.7928|12706fab-f3a2-48c...|2008-06-01T00:00:...|\n|       71780|            110619|       2|      748|    818.7|                0|   1637.4|b12f0d3b-5b4e-4f1...|2008-06-01T00:00:...|\n|       71780|            110620|       1|      990|  323.994|                0|  323.994|f117a449-039d-44b...|2008-06-01T00:00:...|\n|       71780|            110621|       1|      926|  149.874|                0|  149.874|92e5052b-72d0-4c9...|2008-06-01T00:00:...|\n|       71780|            110622|       1|      743|   809.76|                0|   809.76|8bd33bed-c4f6-4d4...|2008-06-01T00:00:...|\n|       71780|            110623|       4|      782| 1376.994|                0| 5507.976|686999fb-42e6-4d0...|2008-06-01T00:00:...|\n|       71780|            110624|       2|      918|   158.43|                0|   316.86|82940b03-c70b-418...|2008-06-01T00:00:...|\n|       71780|            110625|       4|      780| 1391.994|                0| 5567.976|644b0cd6-b2c3-4e4...|2008-06-01T00:00:...|\n|       71780|            110626|       1|      937|   48.594|                0|   48.594|7f5feb17-8ef4-423...|2008-06-01T00:00:...|\n|       71780|            110627|       6|      867|   41.994|                0|  251.964|ac78838d-b503-41a...|2008-06-01T00:00:...|\n|       71780|            110628|       1|      985|  112.998|              0.4|  67.7988|2c10a282-a13d-442...|2008-06-01T00:00:...|\n|       71780|            110629|       2|      989|  323.994|                0|  647.988|654fb79e-70df-4b9...|2008-06-01T00:00:...|\n|       71780|            110630|       3|      991|  323.994|                0|  971.982|3d6ca7ab-055e-453...|2008-06-01T00:00:...|\n|       71780|            110631|       1|      992|  323.994|                0|  323.994|560feee1-dd54-4c3...|2008-06-01T00:00:...|\n|       71780|            110632|       2|      993|  323.994|                0|  647.988|19570052-4023-465...|2008-06-01T00:00:...|\n+------------+------------------+--------+---------+---------+-----------------+---------+--------------------+--------------------+\nonly showing top 20 rows\n"
     ]
    },
    {
     "output_type": "stream",
     "name": "stdout",
     "output_type": "stream",
     "text": [
      "+------------+------------------+--------+---------+---------+-----------------+---------+----------+----+\n|SalesOrderID|SalesOrderDetailID|OrderQty|ProductID|UnitPrice|UnitPriceDiscount|LineTotal| Salesdate|Date|\n+------------+------------------+--------+---------+---------+-----------------+---------+----------+----+\n|       71774|            110562|       1|      836|  356.898|                0|  356.898|2008-06-01|    |\n|       71774|            110563|       1|      822|  356.898|                0|  356.898|2008-06-01|    |\n|       71776|            110567|       1|      907|     63.9|                0|     63.9|2008-06-01|    |\n|       71780|            110616|       4|      905|  218.454|                0|  873.816|2008-06-01|    |\n|       71780|            110617|       2|      983|  461.694|                0|  923.388|2008-06-01|    |\n|       71780|            110618|       6|      988|  112.998|              0.4| 406.7928|2008-06-01|    |\n|       71780|            110619|       2|      748|    818.7|                0|   1637.4|2008-06-01|    |\n|       71780|            110620|       1|      990|  323.994|                0|  323.994|2008-06-01|    |\n|       71780|            110621|       1|      926|  149.874|                0|  149.874|2008-06-01|    |\n|       71780|            110622|       1|      743|   809.76|                0|   809.76|2008-06-01|    |\n|       71780|            110623|       4|      782| 1376.994|                0| 5507.976|2008-06-01|    |\n|       71780|            110624|       2|      918|   158.43|                0|   316.86|2008-06-01|    |\n|       71780|            110625|       4|      780| 1391.994|                0| 5567.976|2008-06-01|    |\n|       71780|            110626|       1|      937|   48.594|                0|   48.594|2008-06-01|    |\n|       71780|            110627|       6|      867|   41.994|                0|  251.964|2008-06-01|    |\n|       71780|            110628|       1|      985|  112.998|              0.4|  67.7988|2008-06-01|    |\n|       71780|            110629|       2|      989|  323.994|                0|  647.988|2008-06-01|    |\n|       71780|            110630|       3|      991|  323.994|                0|  971.982|2008-06-01|    |\n|       71780|            110631|       1|      992|  323.994|                0|  323.994|2008-06-01|    |\n|       71780|            110632|       2|      993|  323.994|                0|  647.988|2008-06-01|    |\n+------------+------------------+--------+---------+---------+-----------------+---------+----------+----+\nonly showing top 20 rows\n"
     ]
    },
    {
     "output_type": "stream",
     "name": "stdout",
     "output_type": "stream",
     "text": [
      "root\n |-- SalesOrderID: string (nullable = true)\n |-- SalesOrderDetailID: string (nullable = true)\n |-- OrderQty: string (nullable = true)\n |-- ProductID: string (nullable = true)\n |-- UnitPrice: string (nullable = true)\n |-- UnitPriceDiscount: string (nullable = true)\n |-- LineTotal: string (nullable = true)\n |-- Salesdate: date (nullable = true)\n |-- Date: string (nullable = false)\n\n"
     ]
    },
    {
     "output_type": "stream",
     "name": "stdout",
     "output_type": "stream",
     "text": [
      "root\n |-- SalesOrderID: integer (nullable = true)\n |-- SalesOrderDetailID: integer (nullable = true)\n |-- OrderQty: integer (nullable = true)\n |-- ProductID: integer (nullable = true)\n |-- UnitPrice: double (nullable = true)\n |-- UnitPriceDiscount: double (nullable = true)\n |-- LineTotal: double (nullable = true)\n |-- Salesdate: date (nullable = true)\n |-- Date: date (nullable = true)\n\n"
     ]
    }
   ],
   "source": [
    "%run \"./sales\""
   ]
  },
  {
   "cell_type": "code",
   "execution_count": 0,
   "metadata": {
    "application/vnd.databricks.v1+cell": {
     "cellMetadata": {
      "byteLimit": 2048000,
      "implicitDf": true,
      "rowLimit": 10000
     },
     "inputWidgets": {},
     "nuid": "0d4d7860-4620-4448-9587-a16c8a801ed0",
     "showTitle": false,
     "tableResultSettingsMap": {},
     "title": ""
    }
   },
   "outputs": [
    {
     "output_type": "display_data",
     "data": {
      "text/html": [
       "<style scoped>\n",
       "  .table-result-container {\n",
       "    max-height: 300px;\n",
       "    overflow: auto;\n",
       "  }\n",
       "  table, th, td {\n",
       "    border: 1px solid black;\n",
       "    border-collapse: collapse;\n",
       "  }\n",
       "  th, td {\n",
       "    padding: 5px;\n",
       "  }\n",
       "  th {\n",
       "    text-align: left;\n",
       "  }\n",
       "</style><div class='table-result-container'><table class='table-result'><thead style='background-color: white'><tr></tr></thead><tbody></tbody></table></div>"
      ]
     },
     "metadata": {
      "application/vnd.databricks.v1+output": {
       "addedWidgets": {},
       "aggData": [],
       "aggError": "",
       "aggOverflow": false,
       "aggSchema": [],
       "aggSeriesLimitReached": false,
       "aggType": "",
       "arguments": {},
       "columnCustomDisplayInfos": {},
       "data": [],
       "datasetInfos": [],
       "dbfsResultPath": null,
       "isJsonSchema": true,
       "metadata": {
        "dataframeName": null
       },
       "overflow": false,
       "plotOptions": {
        "customPlotOptions": {},
        "displayType": "table",
        "pivotAggregation": null,
        "pivotColumns": null,
        "xColumns": null,
        "yColumns": null
       },
       "removedWidgets": [],
       "schema": [],
       "type": "table"
      }
     },
     "output_type": "display_data"
    }
   ],
   "source": [
    "%sql\n",
    "CREATE DATABASE IF NOT EXISTS firstexp"
   ]
  },
  {
   "cell_type": "code",
   "execution_count": 0,
   "metadata": {
    "application/vnd.databricks.v1+cell": {
     "cellMetadata": {
      "byteLimit": 2048000,
      "implicitDf": true,
      "rowLimit": 10000
     },
     "inputWidgets": {},
     "nuid": "38db2bd6-cece-45be-81de-75001b1552a9",
     "showTitle": false,
     "tableResultSettingsMap": {},
     "title": ""
    }
   },
   "outputs": [
    {
     "output_type": "display_data",
     "data": {
      "text/html": [
       "<style scoped>\n",
       "  .table-result-container {\n",
       "    max-height: 300px;\n",
       "    overflow: auto;\n",
       "  }\n",
       "  table, th, td {\n",
       "    border: 1px solid black;\n",
       "    border-collapse: collapse;\n",
       "  }\n",
       "  th, td {\n",
       "    padding: 5px;\n",
       "  }\n",
       "  th {\n",
       "    text-align: left;\n",
       "  }\n",
       "</style><div class='table-result-container'><table class='table-result'><thead style='background-color: white'><tr><th>current_schema()</th></tr></thead><tbody><tr><td>default</td></tr></tbody></table></div>"
      ]
     },
     "metadata": {
      "application/vnd.databricks.v1+output": {
       "addedWidgets": {},
       "aggData": [],
       "aggError": "",
       "aggOverflow": false,
       "aggSchema": [],
       "aggSeriesLimitReached": false,
       "aggType": "",
       "arguments": {},
       "columnCustomDisplayInfos": {},
       "data": [
        [
         "default"
        ]
       ],
       "datasetInfos": [],
       "dbfsResultPath": null,
       "isJsonSchema": true,
       "metadata": {
        "createTempViewForImplicitDf": true,
        "dataframeName": "_sqldf",
        "executionCount": 123
       },
       "overflow": false,
       "plotOptions": {
        "customPlotOptions": {},
        "displayType": "table",
        "pivotAggregation": null,
        "pivotColumns": null,
        "xColumns": null,
        "yColumns": null
       },
       "removedWidgets": [],
       "schema": [
        {
         "metadata": "{\"__autoGeneratedAlias\":\"true\"}",
         "name": "current_schema()",
         "type": "\"string\""
        }
       ],
       "type": "table"
      }
     },
     "output_type": "display_data"
    }
   ],
   "source": [
    "%sql\n",
    "select current_database()"
   ]
  },
  {
   "cell_type": "code",
   "execution_count": 0,
   "metadata": {
    "application/vnd.databricks.v1+cell": {
     "cellMetadata": {
      "byteLimit": 2048000,
      "implicitDf": true,
      "rowLimit": 10000
     },
     "inputWidgets": {},
     "nuid": "55a89eb6-2130-4099-a7f9-abb8738e780f",
     "showTitle": false,
     "tableResultSettingsMap": {},
     "title": ""
    }
   },
   "outputs": [
    {
     "output_type": "display_data",
     "data": {
      "text/html": [
       "<style scoped>\n",
       "  .table-result-container {\n",
       "    max-height: 300px;\n",
       "    overflow: auto;\n",
       "  }\n",
       "  table, th, td {\n",
       "    border: 1px solid black;\n",
       "    border-collapse: collapse;\n",
       "  }\n",
       "  th, td {\n",
       "    padding: 5px;\n",
       "  }\n",
       "  th {\n",
       "    text-align: left;\n",
       "  }\n",
       "</style><div class='table-result-container'><table class='table-result'><thead style='background-color: white'><tr></tr></thead><tbody></tbody></table></div>"
      ]
     },
     "metadata": {
      "application/vnd.databricks.v1+output": {
       "addedWidgets": {},
       "aggData": [],
       "aggError": "",
       "aggOverflow": false,
       "aggSchema": [],
       "aggSeriesLimitReached": false,
       "aggType": "",
       "arguments": {},
       "columnCustomDisplayInfos": {},
       "data": [],
       "datasetInfos": [],
       "dbfsResultPath": null,
       "isJsonSchema": true,
       "metadata": {
        "dataframeName": null
       },
       "overflow": false,
       "plotOptions": {
        "customPlotOptions": {},
        "displayType": "table",
        "pivotAggregation": null,
        "pivotColumns": null,
        "xColumns": null,
        "yColumns": null
       },
       "removedWidgets": [],
       "schema": [],
       "type": "table"
      }
     },
     "output_type": "display_data"
    }
   ],
   "source": [
    "%sql\n",
    "use firstexp"
   ]
  },
  {
   "cell_type": "code",
   "execution_count": 0,
   "metadata": {
    "application/vnd.databricks.v1+cell": {
     "cellMetadata": {
      "byteLimit": 2048000,
      "implicitDf": true,
      "rowLimit": 10000
     },
     "inputWidgets": {},
     "nuid": "eda45c6b-b14a-4084-82c0-bb2a8d075935",
     "showTitle": false,
     "tableResultSettingsMap": {},
     "title": ""
    }
   },
   "outputs": [
    {
     "output_type": "display_data",
     "data": {
      "text/html": [
       "<style scoped>\n",
       "  .table-result-container {\n",
       "    max-height: 300px;\n",
       "    overflow: auto;\n",
       "  }\n",
       "  table, th, td {\n",
       "    border: 1px solid black;\n",
       "    border-collapse: collapse;\n",
       "  }\n",
       "  th, td {\n",
       "    padding: 5px;\n",
       "  }\n",
       "  th {\n",
       "    text-align: left;\n",
       "  }\n",
       "</style><div class='table-result-container'><table class='table-result'><thead style='background-color: white'><tr><th>current_schema()</th></tr></thead><tbody><tr><td>firstexp</td></tr></tbody></table></div>"
      ]
     },
     "metadata": {
      "application/vnd.databricks.v1+output": {
       "addedWidgets": {},
       "aggData": [],
       "aggError": "",
       "aggOverflow": false,
       "aggSchema": [],
       "aggSeriesLimitReached": false,
       "aggType": "",
       "arguments": {},
       "columnCustomDisplayInfos": {},
       "data": [
        [
         "firstexp"
        ]
       ],
       "datasetInfos": [],
       "dbfsResultPath": null,
       "isJsonSchema": true,
       "metadata": {
        "createTempViewForImplicitDf": true,
        "dataframeName": "_sqldf",
        "executionCount": 124
       },
       "overflow": false,
       "plotOptions": {
        "customPlotOptions": {},
        "displayType": "table",
        "pivotAggregation": null,
        "pivotColumns": null,
        "xColumns": null,
        "yColumns": null
       },
       "removedWidgets": [],
       "schema": [
        {
         "metadata": "{\"__autoGeneratedAlias\":\"true\"}",
         "name": "current_schema()",
         "type": "\"string\""
        }
       ],
       "type": "table"
      }
     },
     "output_type": "display_data"
    }
   ],
   "source": [
    "%sql\n",
    "select current_database()"
   ]
  },
  {
   "cell_type": "code",
   "execution_count": 0,
   "metadata": {
    "application/vnd.databricks.v1+cell": {
     "cellMetadata": {
      "byteLimit": 2048000,
      "rowLimit": 10000
     },
     "inputWidgets": {},
     "nuid": "409d09f8-2b89-49b1-9155-f2e9aa51571b",
     "showTitle": false,
     "tableResultSettingsMap": {},
     "title": ""
    }
   },
   "outputs": [],
   "source": [
    "df_product_data.write.mode(\"overwrite\").format(\"delta\").saveAsTable('firstexp.product_data')"
   ]
  },
  {
   "cell_type": "code",
   "execution_count": 0,
   "metadata": {
    "application/vnd.databricks.v1+cell": {
     "cellMetadata": {
      "byteLimit": 2048000,
      "rowLimit": 10000
     },
     "inputWidgets": {},
     "nuid": "552fe8e3-092b-4037-8b51-3c781e874dd6",
     "showTitle": false,
     "tableResultSettingsMap": {},
     "title": ""
    }
   },
   "outputs": [],
   "source": [
    "df_modified.write.mode(\"overwrite\").format(\"delta\").saveAsTable('firstexp.customer_data')"
   ]
  },
  {
   "cell_type": "code",
   "execution_count": 0,
   "metadata": {
    "application/vnd.databricks.v1+cell": {
     "cellMetadata": {
      "byteLimit": 2048000,
      "rowLimit": 10000
     },
     "inputWidgets": {},
     "nuid": "a28d441c-a38b-47c5-a954-729cec8c134b",
     "showTitle": false,
     "tableResultSettingsMap": {},
     "title": ""
    }
   },
   "outputs": [],
   "source": [
    "df_sales_data.write.mode(\"overwrite\").format(\"delta\").saveAsTable('firstexp.sales_data')"
   ]
  },
  {
   "cell_type": "code",
   "execution_count": 0,
   "metadata": {
    "application/vnd.databricks.v1+cell": {
     "cellMetadata": {
      "byteLimit": 2048000,
      "implicitDf": true,
      "rowLimit": 10000
     },
     "inputWidgets": {},
     "nuid": "0261d636-40ce-4063-b2b4-4816e7e21bc7",
     "showTitle": false,
     "tableResultSettingsMap": {},
     "title": ""
    }
   },
   "outputs": [
    {
     "output_type": "display_data",
     "data": {
      "text/html": [
       "<style scoped>\n",
       "  .table-result-container {\n",
       "    max-height: 300px;\n",
       "    overflow: auto;\n",
       "  }\n",
       "  table, th, td {\n",
       "    border: 1px solid black;\n",
       "    border-collapse: collapse;\n",
       "  }\n",
       "  th, td {\n",
       "    padding: 5px;\n",
       "  }\n",
       "  th {\n",
       "    text-align: left;\n",
       "  }\n",
       "</style><div class='table-result-container'><table class='table-result'><thead style='background-color: white'><tr><th>database</th><th>tableName</th><th>isTemporary</th></tr></thead><tbody><tr><td>firstexp</td><td>customer_data</td><td>false</td></tr><tr><td>firstexp</td><td>product_data</td><td>false</td></tr><tr><td>firstexp</td><td>sales_data</td><td>false</td></tr><tr><td></td><td>_sqldf</td><td>true</td></tr></tbody></table></div>"
      ]
     },
     "metadata": {
      "application/vnd.databricks.v1+output": {
       "addedWidgets": {},
       "aggData": [],
       "aggError": "",
       "aggOverflow": false,
       "aggSchema": [],
       "aggSeriesLimitReached": false,
       "aggType": "",
       "arguments": {},
       "columnCustomDisplayInfos": {},
       "data": [
        [
         "firstexp",
         "customer_data",
         false
        ],
        [
         "firstexp",
         "product_data",
         false
        ],
        [
         "firstexp",
         "sales_data",
         false
        ],
        [
         "",
         "_sqldf",
         true
        ]
       ],
       "datasetInfos": [],
       "dbfsResultPath": null,
       "isJsonSchema": true,
       "metadata": {
        "createTempViewForImplicitDf": true,
        "dataframeName": "_sqldf",
        "executionCount": 128
       },
       "overflow": false,
       "plotOptions": {
        "customPlotOptions": {},
        "displayType": "table",
        "pivotAggregation": null,
        "pivotColumns": null,
        "xColumns": null,
        "yColumns": null
       },
       "removedWidgets": [],
       "schema": [
        {
         "metadata": "{}",
         "name": "database",
         "type": "\"string\""
        },
        {
         "metadata": "{}",
         "name": "tableName",
         "type": "\"string\""
        },
        {
         "metadata": "{}",
         "name": "isTemporary",
         "type": "\"boolean\""
        }
       ],
       "type": "table"
      }
     },
     "output_type": "display_data"
    }
   ],
   "source": [
    "%sql\n",
    "show tables"
   ]
  },
  {
   "cell_type": "code",
   "execution_count": 0,
   "metadata": {
    "application/vnd.databricks.v1+cell": {
     "cellMetadata": {
      "byteLimit": 2048000,
      "implicitDf": true,
      "rowLimit": 10000
     },
     "inputWidgets": {},
     "nuid": "1b3900ee-3b74-45bf-b424-3895e02eb93e",
     "showTitle": false,
     "tableResultSettingsMap": {},
     "title": ""
    }
   },
   "outputs": [
    {
     "output_type": "display_data",
     "data": {
      "text/html": [
       "<style scoped>\n",
       "  .table-result-container {\n",
       "    max-height: 300px;\n",
       "    overflow: auto;\n",
       "  }\n",
       "  table, th, td {\n",
       "    border: 1px solid black;\n",
       "    border-collapse: collapse;\n",
       "  }\n",
       "  th, td {\n",
       "    padding: 5px;\n",
       "  }\n",
       "  th {\n",
       "    text-align: left;\n",
       "  }\n",
       "</style><div class='table-result-container'><table class='table-result'><thead style='background-color: white'><tr><th>Category_Name</th><th>Averagecost</th><th>averageprice</th></tr></thead><tbody><tr><td>Headsets</td><td>38.66056666666667</td><td>87.07333333333334</td></tr><tr><td>Wheels</td><td>98.09259999999999</td><td>220.92928571428573</td></tr><tr><td>Mountain Bikes</td><td>933.7700249999994</td><td>1683.3649999999982</td></tr></tbody></table></div>"
      ]
     },
     "metadata": {
      "application/vnd.databricks.v1+output": {
       "addedWidgets": {},
       "aggData": [],
       "aggError": "",
       "aggOverflow": false,
       "aggSchema": [],
       "aggSeriesLimitReached": false,
       "aggType": "",
       "arguments": {},
       "columnCustomDisplayInfos": {},
       "data": [
        [
         "Headsets",
         38.66056666666667,
         87.07333333333334
        ],
        [
         "Wheels",
         98.09259999999999,
         220.92928571428573
        ],
        [
         "Mountain Bikes",
         933.7700249999994,
         1683.3649999999982
        ]
       ],
       "datasetInfos": [],
       "dbfsResultPath": null,
       "isJsonSchema": true,
       "metadata": {
        "createTempViewForImplicitDf": true,
        "dataframeName": "_sqldf",
        "executionCount": 129
       },
       "overflow": false,
       "plotOptions": {
        "customPlotOptions": {},
        "displayType": "table",
        "pivotAggregation": null,
        "pivotColumns": null,
        "xColumns": null,
        "yColumns": null
       },
       "removedWidgets": [],
       "schema": [
        {
         "metadata": "{}",
         "name": "Category_Name",
         "type": "\"string\""
        },
        {
         "metadata": "{}",
         "name": "Averagecost",
         "type": "\"double\""
        },
        {
         "metadata": "{}",
         "name": "averageprice",
         "type": "\"double\""
        }
       ],
       "type": "table"
      }
     },
     "output_type": "display_data"
    }
   ],
   "source": [
    "%sql\n",
    "select\n",
    "`Category_Name`,\n",
    "avg(StandardCost) as Averagecost,\n",
    "avg(ListPrice) as averageprice\n",
    "from product_data\n",
    "where `Category_Name`in ('Headsets','Wheels','Pumps','Mountain Bikes')\n",
    "group by `Category_Name`\n",
    "having Averagecost>30\n",
    "Order by Averagecost"
   ]
  }
 ],
 "metadata": {
  "application/vnd.databricks.v1+notebook": {
   "computePreferences": null,
   "dashboards": [],
   "environmentMetadata": null,
   "language": "python",
   "notebookMetadata": {
    "mostRecentlyExecutedCommandWithImplicitDF": {
     "commandId": 1417014934513279,
     "dataframes": [
      "_sqldf"
     ]
    },
    "pythonIndentUnit": 4
   },
   "notebookName": "managed table",
   "widgets": {}
  },
  "language_info": {
   "name": "python"
  }
 },
 "nbformat": 4,
 "nbformat_minor": 0
}