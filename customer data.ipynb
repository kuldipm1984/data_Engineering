{
 "cells": [
  {
   "cell_type": "code",
   "execution_count": 0,
   "metadata": {
    "application/vnd.databricks.v1+cell": {
     "cellMetadata": {
      "byteLimit": 2048000,
      "rowLimit": 10000
     },
     "inputWidgets": {},
     "nuid": "e47657cf-2592-4821-94f8-c59bbd100f47",
     "showTitle": false,
     "tableResultSettingsMap": {},
     "title": ""
    }
   },
   "outputs": [],
   "source": [
    "%run \"./config\""
   ]
  },
  {
   "cell_type": "code",
   "execution_count": 0,
   "metadata": {
    "application/vnd.databricks.v1+cell": {
     "cellMetadata": {
      "byteLimit": 2048000,
      "rowLimit": 10000
     },
     "inputWidgets": {},
     "nuid": "af727ceb-ebe9-4c1b-8519-35918af38ef1",
     "showTitle": false,
     "tableResultSettingsMap": {},
     "title": ""
    }
   },
   "outputs": [],
   "source": [
    "spark.conf.set(\n",
    "    \"fs.azure.account.key.storekm01.dfs.core.windows.net\",\n",
    "    f'{key}'\n",
    ")"
   ]
  },
  {
   "cell_type": "code",
   "execution_count": 0,
   "metadata": {
    "application/vnd.databricks.v1+cell": {
     "cellMetadata": {
      "byteLimit": 2048000,
      "rowLimit": 10000
     },
     "inputWidgets": {},
     "nuid": "719bbbf0-fe78-4034-9317-e34e1bfc05d9",
     "showTitle": false,
     "tableResultSettingsMap": {},
     "title": ""
    }
   },
   "outputs": [
    {
     "output_type": "display_data",
     "data": {
      "text/html": [
       "<style scoped>\n",
       "  .table-result-container {\n",
       "    max-height: 300px;\n",
       "    overflow: auto;\n",
       "  }\n",
       "  table, th, td {\n",
       "    border: 1px solid black;\n",
       "    border-collapse: collapse;\n",
       "  }\n",
       "  th, td {\n",
       "    padding: 5px;\n",
       "  }\n",
       "  th {\n",
       "    text-align: left;\n",
       "  }\n",
       "</style><div class='table-result-container'><table class='table-result'><thead style='background-color: white'><tr><th>path</th><th>name</th><th>size</th><th>modificationTime</th></tr></thead><tbody><tr><td>abfss://rawdata@storekm01.dfs.core.windows.net/2025-01-01/</td><td>2025-01-01/</td><td>0</td><td>1736093953000</td></tr><tr><td>abfss://rawdata@storekm01.dfs.core.windows.net/2025-01-02/</td><td>2025-01-02/</td><td>0</td><td>1736093973000</td></tr><tr><td>abfss://rawdata@storekm01.dfs.core.windows.net/2025-01-03/</td><td>2025-01-03/</td><td>0</td><td>1736094000000</td></tr></tbody></table></div>"
      ]
     },
     "metadata": {
      "application/vnd.databricks.v1+output": {
       "addedWidgets": {},
       "aggData": [],
       "aggError": "",
       "aggOverflow": false,
       "aggSchema": [],
       "aggSeriesLimitReached": false,
       "aggType": "",
       "arguments": {},
       "columnCustomDisplayInfos": {},
       "data": [
        [
         "abfss://rawdata@storekm01.dfs.core.windows.net/2025-01-01/",
         "2025-01-01/",
         0,
         1736093953000
        ],
        [
         "abfss://rawdata@storekm01.dfs.core.windows.net/2025-01-02/",
         "2025-01-02/",
         0,
         1736093973000
        ],
        [
         "abfss://rawdata@storekm01.dfs.core.windows.net/2025-01-03/",
         "2025-01-03/",
         0,
         1736094000000
        ]
       ],
       "datasetInfos": [],
       "dbfsResultPath": null,
       "isJsonSchema": true,
       "metadata": {},
       "overflow": false,
       "plotOptions": {
        "customPlotOptions": {},
        "displayType": "table",
        "pivotAggregation": null,
        "pivotColumns": null,
        "xColumns": null,
        "yColumns": null
       },
       "removedWidgets": [],
       "schema": [
        {
         "metadata": "{}",
         "name": "path",
         "type": "\"string\""
        },
        {
         "metadata": "{}",
         "name": "name",
         "type": "\"string\""
        },
        {
         "metadata": "{}",
         "name": "size",
         "type": "\"long\""
        },
        {
         "metadata": "{}",
         "name": "modificationTime",
         "type": "\"long\""
        }
       ],
       "type": "table"
      }
     },
     "output_type": "display_data"
    }
   ],
   "source": [
    "display(dbutils.fs.ls(\"abfss://rawdata@storekm01.dfs.core.windows.net/\"))"
   ]
  },
  {
   "cell_type": "code",
   "execution_count": 0,
   "metadata": {
    "application/vnd.databricks.v1+cell": {
     "cellMetadata": {
      "byteLimit": 2048000,
      "rowLimit": 10000
     },
     "inputWidgets": {},
     "nuid": "9377d4e6-7a39-406a-8f63-a087f011d0b0",
     "showTitle": false,
     "tableResultSettingsMap": {},
     "title": ""
    }
   },
   "outputs": [],
   "source": [
    "dbutils.widgets.text('Date','')\n",
    "input_value= dbutils.widgets.get('Date')"
   ]
  },
  {
   "cell_type": "code",
   "execution_count": 0,
   "metadata": {
    "application/vnd.databricks.v1+cell": {
     "cellMetadata": {
      "byteLimit": 2048000,
      "rowLimit": 10000
     },
     "inputWidgets": {},
     "nuid": "135fced8-2671-4101-9628-aa41658dcd1b",
     "showTitle": false,
     "tableResultSettingsMap": {},
     "title": ""
    }
   },
   "outputs": [],
   "source": [
    "import pyspark\n",
    "# Create a spark session using getOrCreate() function \n",
    "from pyspark.sql import SparkSession \n",
    "spark_session = SparkSession.builder.getOrCreate() "
   ]
  },
  {
   "cell_type": "code",
   "execution_count": 0,
   "metadata": {
    "application/vnd.databricks.v1+cell": {
     "cellMetadata": {
      "byteLimit": 2048000,
      "rowLimit": 10000
     },
     "inputWidgets": {},
     "nuid": "76ef0e47-3bf1-4093-841d-f1bbd3225d72",
     "showTitle": false,
     "tableResultSettingsMap": {},
     "title": ""
    }
   },
   "outputs": [],
   "source": [
    "df = spark_session.read.format( \n",
    "    \"csv\").option( \n",
    "    \"header\", True).load(f'{raw_folder_path}/customer 1.csv') "
   ]
  },
  {
   "cell_type": "code",
   "execution_count": 0,
   "metadata": {
    "application/vnd.databricks.v1+cell": {
     "cellMetadata": {
      "byteLimit": 2048000,
      "rowLimit": 10000
     },
     "inputWidgets": {},
     "nuid": "30c4e3c9-1c15-49b7-8e06-8a49d29367e6",
     "showTitle": false,
     "tableResultSettingsMap": {},
     "title": ""
    }
   },
   "outputs": [
    {
     "output_type": "stream",
     "name": "stdout",
     "output_type": "stream",
     "text": [
      "+----------+---------+-----+-----------+----------+----------+------+--------------------+--------------------+--------------------+-------------------+--------------------+------------+--------------------+--------------------+\n|CustomerID|NameStyle|Title|  FirstName|MiddleName|  LastName|Suffix|         CompanyName|         SalesPerson|        EmailAddress|              Phone|        PasswordHash|PasswordSalt|             rowguid|        ModifiedDate|\n+----------+---------+-----+-----------+----------+----------+------+--------------------+--------------------+--------------------+-------------------+--------------------+------------+--------------------+--------------------+\n|         1|    FALSE|  Mr.|    Orlando|        N.|       Gee|  NULL|        A Bike Store|adventure-works\\p...|orlando0@adventur...|       245-555-0173|L/Rlwxzp4w7RWmEgX...|    1KjXYs4=|3f5ae95e-b87d-4ae...|2005-08-01T00:00:...|\n|         2|    FALSE|  Mr.|      Keith|      NULL|    Harris|  NULL|  Progressive Sports|adventure-works\\d...|keith0@adventure-...|       170-555-0127|YPdtRdvqeAhj6wyxE...|    fs1ZGhY=|e552f657-a9af-4a7...|2006-08-01T00:00:...|\n|         3|    FALSE|  Ms.|      Donna|        F.|  Carreras|  NULL|Advanced Bike Com...|adventure-works\\j...|donna0@adventure-...|       279-555-0130|LNoK27abGQo48gGue...|    YTNH5Rw=|130774b1-db21-4ef...|2005-09-01T00:00:...|\n|         4|    FALSE|  Ms.|      Janet|        M.|     Gates|  NULL|Modular Cycle Sys...|adventure-works\\j...|janet1@adventure-...|       710-555-0173|ElzTpSNbUW1Ut+L5c...|    nm7D5e4=|ff862851-1daa-404...|2006-07-01T00:00:...|\n|         5|    FALSE|  Mr.|       Lucy|      NULL|Harrington|  NULL|Metropolitan Spor...|adventure-works\\shu0|lucy0@adventure-w...|       828-555-0186|KJqV15wsX3PG8TS5G...|    cNFKU4w=|83905bdc-6f5e-4f7...|2006-09-01T00:00:...|\n|         6|    FALSE|  Ms.|   Rosmarie|        J.|   Carroll|  NULL|Aerobic Exercise ...|adventure-works\\l...|rosmarie0@adventu...|       244-555-0112|OKT0scizCdIzymHHO...|    ihWf50M=|1a92df88-bfa2-467...|2007-09-01T00:00:...|\n|         7|    FALSE|  Mr.|    Dominic|        P.|      Gash|  NULL|    Associated Bikes|adventure-works\\shu0|dominic0@adventur...|       192-555-0173|ZccoP/jZGQm+Xpzc7...|    sPoUBSQ=|03e9273e-b193-448...|2006-07-01T00:00:...|\n|        10|    FALSE|  Ms.|   Kathleen|        M.|     Garza|  NULL|Rural Cycle Emporium|adventure-works\\j...|kathleen0@adventu...|       150-555-0127|Qa3aMCxNbVLGrc0b9...|    Ls05W3g=|cdb6698d-2ff1-4fb...|2006-09-01T00:00:...|\n|        11|    FALSE|  Ms.|  Katherine|      NULL|   Harding|  NULL|         Sharp Bikes|adventure-works\\j...|katherine0@advent...|       926-555-0159|uRlorVzDGNJIX9I+e...|    jpHKbqE=|750f3495-59c4-48a...|2005-08-01T00:00:...|\n|        12|    FALSE|  Mr.|     Johnny|        A.|    Caprio|   Jr.|Bikes and Motorbikes|adventure-works\\g...|johnny0@adventure...|       112-555-0191|jtF9jBoFYeJTaET7x...|    wVLnvHo=|947bcaf1-1f32-44f...|2006-08-01T00:00:...|\n|        16|    FALSE|  Mr.|Christopher|        R.|      Beck|   Jr.| Bulk Discount Store|adventure-works\\jae0|christopher1@adve...|1 (11) 500 555-0132|sKt9daCzEEKWAzivE...|    8KfYx/4=|c9381589-d31c-4ef...|2006-09-01T00:00:...|\n|        18|    FALSE|  Mr.|      David|        J.|       Liu|  NULL|       Catalog Store|adventure-works\\m...|david20@adventure...|       440-555-0132|61zeTkO+eI5g8GG0s...|    c7Ttvv0=|c04d6b4d-94c6-4c5...|2005-08-01T00:00:...|\n|        19|    FALSE|  Mr.|       John|        A.|    Beaver|  NULL|   Center Cycle Shop|adventure-works\\p...|john8@adventure-w...|       521-555-0195|DzbqWX7B3EK5Dub92...|    zXNgrJw=|69ae5d43-31be-4b7...|2007-04-01T00:00:...|\n|        20|    FALSE|  Ms.|       Jean|        P.|   Handley|  NULL|Central Discount ...|adventure-works\\d...|jean1@adventure-w...|       582-555-0113|o1GVo3vExeNzo0/ct...|    uMsvfdo=|e010c10a-f1c3-4bb...|2005-09-01T00:00:...|\n|        21|    FALSE| NULL|    Jinghao|      NULL|       Liu|  NULL|Chic Department S...|adventure-works\\j...|jinghao1@adventur...|       928-555-0116|IaD5AeqK9mRiIrJi/...|    p6pOqKc=|564e0b42-4609-43d...|2006-09-01T00:00:...|\n|        22|    FALSE|  Ms.|      Linda|        E.|   Burnett|  NULL|      Travel Systems|adventure-works\\j...|linda4@adventure-...|       121-555-0121|23AwhujCoXYSPiN/B...|    SmyIPjE=|9774aed6-d673-412...|2005-08-01T00:00:...|\n|        23|    FALSE|  Mr.|      Kerim|      NULL|     Hanif|  NULL|          Bike World|adventure-works\\shu0|kerim0@adventure-...|       216-555-0122|d0WSjosAd7Y3XOWjN...|    33g5co8=|733f8250-3251-4c2...|2006-09-01T00:00:...|\n|        24|    FALSE|  Mr.|      Kevin|      NULL|       Liu|  NULL|Eastside Departme...|adventure-works\\l...|kevin5@adventure-...|       926-555-0164|ylTpkIOHKLcjihNjS...|    TgZnUOg=|c111e51d-178d-4db...|2006-09-01T00:00:...|\n|        25|    FALSE|  Mr.|     Donald|        L.|   Blanton|  NULL|Coalition Bike Co...|adventure-works\\shu0|donald0@adventure...|       357-555-0161|pKYDelLBOZMO98GBz...|    jKtOaOw=|31d03546-fb2a-448...|2006-09-01T00:00:...|\n|        28|    FALSE|  Ms.|     Jackie|        E.| Blackwell|  NULL|Commuter Bicycle ...|adventure-works\\j...|jackie0@adventure...|       972-555-0163|wqhgKfOTfef4Zo3cb...|    SZ+r60o=|9b8a04a4-d909-4f4...|2007-08-01T00:00:...|\n+----------+---------+-----+-----------+----------+----------+------+--------------------+--------------------+--------------------+-------------------+--------------------+------------+--------------------+--------------------+\nonly showing top 20 rows\n"
     ]
    }
   ],
   "source": [
    "df.show()"
   ]
  },
  {
   "cell_type": "code",
   "execution_count": 0,
   "metadata": {
    "application/vnd.databricks.v1+cell": {
     "cellMetadata": {
      "byteLimit": 2048000,
      "rowLimit": 10000
     },
     "inputWidgets": {},
     "nuid": "5e48c1e0-e038-407b-b64c-0ca8fcee0985",
     "showTitle": false,
     "tableResultSettingsMap": {},
     "title": ""
    }
   },
   "outputs": [],
   "source": [
    "from pyspark.sql.functions import col,concat_ws, current_timestamp, lit, split\n",
    "df_modified= df.withColumn('CustomerName', concat_ws('',col (\"Title\"), lit(' '), col(\"FirstName\"),lit(' '), col(\"MiddleName\"),lit(' '), col \n",
    "                (\"LastName\")))\\\n",
    "               .drop('PasswordHash','NameStyle','PasswordSalt','rowguid','ModifiedDate','Title','FirstName','LastName','MiddleName','Suffix')\\\n",
    "               .withColumn(\"Date\",lit(input_value))"
   ]
  },
  {
   "cell_type": "code",
   "execution_count": 0,
   "metadata": {
    "application/vnd.databricks.v1+cell": {
     "cellMetadata": {
      "byteLimit": 2048000,
      "rowLimit": 10000
     },
     "inputWidgets": {},
     "nuid": "3220404c-1905-4ec1-b60c-8ebe03d541a6",
     "showTitle": false,
     "tableResultSettingsMap": {},
     "title": ""
    }
   },
   "outputs": [
    {
     "output_type": "stream",
     "name": "stdout",
     "output_type": "stream",
     "text": [
      "root\n |-- CustomerID: string (nullable = true)\n |-- CompanyName: string (nullable = true)\n |-- SalesPerson: string (nullable = true)\n |-- EmailAddress: string (nullable = true)\n |-- Phone: string (nullable = true)\n |-- CustomerName: string (nullable = false)\n |-- Date: string (nullable = false)\n\n"
     ]
    }
   ],
   "source": [
    "df_modified.printSchema()"
   ]
  },
  {
   "cell_type": "code",
   "execution_count": 0,
   "metadata": {
    "application/vnd.databricks.v1+cell": {
     "cellMetadata": {
      "byteLimit": 2048000,
      "rowLimit": 10000
     },
     "inputWidgets": {},
     "nuid": "7fcb3fc2-5fa6-4afe-81ce-77bc51cf834f",
     "showTitle": false,
     "tableResultSettingsMap": {},
     "title": ""
    }
   },
   "outputs": [],
   "source": [
    "from pyspark.sql.functions import col\n",
    "from pyspark.sql.types import IntegerType, StringType, DateType\n",
    "\n",
    "df_modified = (df_modified\n",
    "               .withColumn(\"CustomerID\", col(\"CustomerID\").cast(IntegerType()))\n",
    "               .withColumn(\"CompanyName\", col(\"CompanyName\").cast(StringType()))\n",
    "               .withColumn(\"SalesPerson\", col(\"SalesPerson\").cast(StringType()))\n",
    "               .withColumn(\"EmailAddress\", col(\"EmailAddress\").cast(StringType()))\n",
    "               .withColumn(\"Phone\", col(\"Phone\").cast(StringType()))\n",
    "               .withColumn(\"CustomerName\", col(\"CustomerName\").cast(StringType()))\n",
    "               .withColumn(\"Date\", col(\"Date\").cast(DateType())))  # Cast Date to DateType\n"
   ]
  },
  {
   "cell_type": "code",
   "execution_count": 0,
   "metadata": {
    "application/vnd.databricks.v1+cell": {
     "cellMetadata": {
      "byteLimit": 2048000,
      "rowLimit": 10000
     },
     "inputWidgets": {},
     "nuid": "fe61233e-ed4f-4d6a-9dc0-15d8d4a736ef",
     "showTitle": false,
     "tableResultSettingsMap": {},
     "title": ""
    }
   },
   "outputs": [
    {
     "output_type": "stream",
     "name": "stdout",
     "output_type": "stream",
     "text": [
      "root\n |-- CustomerID: integer (nullable = true)\n |-- CompanyName: string (nullable = true)\n |-- SalesPerson: string (nullable = true)\n |-- EmailAddress: string (nullable = true)\n |-- Phone: string (nullable = true)\n |-- CustomerName: string (nullable = false)\n |-- Date: date (nullable = true)\n\n"
     ]
    }
   ],
   "source": [
    "df_modified.printSchema()"
   ]
  },
  {
   "cell_type": "code",
   "execution_count": 0,
   "metadata": {
    "application/vnd.databricks.v1+cell": {
     "cellMetadata": {
      "byteLimit": 2048000,
      "rowLimit": 10000
     },
     "inputWidgets": {},
     "nuid": "ee4313b7-eb78-47b6-a927-154d3637e428",
     "showTitle": false,
     "tableResultSettingsMap": {},
     "title": ""
    }
   },
   "outputs": [
    {
     "output_type": "stream",
     "name": "stdout",
     "output_type": "stream",
     "text": [
      "+----------+--------------------+--------------------+--------------------+-------------------+--------------------+----+\n|CustomerID|         CompanyName|         SalesPerson|        EmailAddress|              Phone|        CustomerName|Date|\n+----------+--------------------+--------------------+--------------------+-------------------+--------------------+----+\n|         1|        A Bike Store|adventure-works\\p...|orlando0@adventur...|       245-555-0173|  Mr. Orlando N. Gee|NULL|\n|         2|  Progressive Sports|adventure-works\\d...|keith0@adventure-...|       170-555-0127|   Mr. Keith  Harris|NULL|\n|         3|Advanced Bike Com...|adventure-works\\j...|donna0@adventure-...|       279-555-0130|Ms. Donna F. Carr...|NULL|\n|         4|Modular Cycle Sys...|adventure-works\\j...|janet1@adventure-...|       710-555-0173|  Ms. Janet M. Gates|NULL|\n|         5|Metropolitan Spor...|adventure-works\\shu0|lucy0@adventure-w...|       828-555-0186|Mr. Lucy  Harrington|NULL|\n|         6|Aerobic Exercise ...|adventure-works\\l...|rosmarie0@adventu...|       244-555-0112|Ms. Rosmarie J. C...|NULL|\n|         7|    Associated Bikes|adventure-works\\shu0|dominic0@adventur...|       192-555-0173| Mr. Dominic P. Gash|NULL|\n|        10|Rural Cycle Emporium|adventure-works\\j...|kathleen0@adventu...|       150-555-0127|Ms. Kathleen M. G...|NULL|\n|        11|         Sharp Bikes|adventure-works\\j...|katherine0@advent...|       926-555-0159|Ms. Katherine  Ha...|NULL|\n|        12|Bikes and Motorbikes|adventure-works\\g...|johnny0@adventure...|       112-555-0191|Mr. Johnny A. Caprio|NULL|\n|        16| Bulk Discount Store|adventure-works\\jae0|christopher1@adve...|1 (11) 500 555-0132|Mr. Christopher R...|NULL|\n|        18|       Catalog Store|adventure-works\\m...|david20@adventure...|       440-555-0132|    Mr. David J. Liu|NULL|\n|        19|   Center Cycle Shop|adventure-works\\p...|john8@adventure-w...|       521-555-0195|  Mr. John A. Beaver|NULL|\n|        20|Central Discount ...|adventure-works\\d...|jean1@adventure-w...|       582-555-0113| Ms. Jean P. Handley|NULL|\n|        21|Chic Department S...|adventure-works\\j...|jinghao1@adventur...|       928-555-0116|        Jinghao  Liu|NULL|\n|        22|      Travel Systems|adventure-works\\j...|linda4@adventure-...|       121-555-0121|Ms. Linda E. Burnett|NULL|\n|        23|          Bike World|adventure-works\\shu0|kerim0@adventure-...|       216-555-0122|    Mr. Kerim  Hanif|NULL|\n|        24|Eastside Departme...|adventure-works\\l...|kevin5@adventure-...|       926-555-0164|      Mr. Kevin  Liu|NULL|\n|        25|Coalition Bike Co...|adventure-works\\shu0|donald0@adventure...|       357-555-0161|Mr. Donald L. Bla...|NULL|\n|        28|Commuter Bicycle ...|adventure-works\\j...|jackie0@adventure...|       972-555-0163|Ms. Jackie E. Bla...|NULL|\n+----------+--------------------+--------------------+--------------------+-------------------+--------------------+----+\nonly showing top 20 rows\n"
     ]
    }
   ],
   "source": [
    "df_modified.show()"
   ]
  },
  {
   "cell_type": "code",
   "execution_count": 0,
   "metadata": {
    "application/vnd.databricks.v1+cell": {
     "cellMetadata": {
      "byteLimit": 2048000,
      "rowLimit": 10000
     },
     "inputWidgets": {},
     "nuid": "d0344568-c724-409a-ae52-7368ace556fc",
     "showTitle": false,
     "tableResultSettingsMap": {},
     "title": ""
    }
   },
   "outputs": [],
   "source": [
    "customer_data_processed= df_modified.write.mode( \"overwrite\").option(\"header\", \"true\").csv(f'{processed_folder_path}/customerdata')"
   ]
  }
 ],
 "metadata": {
  "application/vnd.databricks.v1+notebook": {
   "computePreferences": null,
   "dashboards": [],
   "environmentMetadata": null,
   "language": "python",
   "notebookMetadata": {
    "pythonIndentUnit": 4
   },
   "notebookName": "customer data",
   "widgets": {
    "Date": {
     "currentValue": "",
     "nuid": "54a8498f-a376-45b2-b3d8-5834dd4aaf0c",
     "typedWidgetInfo": {
      "autoCreated": false,
      "defaultValue": "",
      "label": null,
      "name": "Date",
      "options": {
       "widgetDisplayType": "Text",
       "validationRegex": null
      },
      "parameterDataType": "String"
     },
     "widgetInfo": {
      "widgetType": "text",
      "defaultValue": "",
      "label": null,
      "name": "Date",
      "options": {
       "widgetType": "text",
       "autoCreated": null,
       "validationRegex": null
      }
     }
    }
   }
  },
  "language_info": {
   "name": "python"
  }
 },
 "nbformat": 4,
 "nbformat_minor": 0
}