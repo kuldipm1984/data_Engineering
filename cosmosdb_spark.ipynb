{
 "cells": [
  {
   "cell_type": "code",
   "execution_count": null,
   "metadata": {
    "application/vnd.databricks.v1+cell": {
     "cellMetadata": {
      "byteLimit": 2048000,
      "rowLimit": 10000
     },
     "inputWidgets": {},
     "nuid": "6558225a-ea6c-4f45-b7ba-9ce385b3d6f7",
     "showTitle": false,
     "tableResultSettingsMap": {},
     "title": ""
    }
   },
   "outputs": [],
   "source": [
    "from pyspark.sql import SparkSession\n",
    "\n",
    "# Configure Cosmos DB connection\n",
    "cosmosConfig = {\n",
    "    \"spark.cosmos.accountEndpoint\": \"https://XXXXXXXXXXXXXXXXXXXXXXX/\",\n",
    "    \"spark.cosmos.accountKey\": \"XXXXXXXXXXXXXXXXXXXXXXXXXXXXXXXXXXXXX\",\n",
    "    \"spark.cosmos.database\": \"ToDoList\",\n",
    "    \"spark.cosmos.container\": \"Items\",\n",
    "    \"spark.cosmos.read.inferSchema.enabled\": \"true\"\n",
    "}"
   ]
  },
  {
   "cell_type": "code",
   "execution_count": null,
   "metadata": {
    "application/vnd.databricks.v1+cell": {
     "cellMetadata": {
      "byteLimit": 2048000,
      "rowLimit": 10000
     },
     "inputWidgets": {},
     "nuid": "492bd2f4-5ba9-4d15-bc31-6eea630947e5",
     "showTitle": false,
     "tableResultSettingsMap": {},
     "title": ""
    }
   },
   "outputs": [],
   "source": [
    "# Load data into a DataFrame\n",
    "df = spark.read.format(\"cosmos.oltp\").options(**cosmosConfig).load()"
   ]
  },
  {
   "cell_type": "code",
   "execution_count": null,
   "metadata": {
    "application/vnd.databricks.v1+cell": {
     "cellMetadata": {
      "byteLimit": 2048000,
      "rowLimit": 10000
     },
     "inputWidgets": {},
     "nuid": "3628250e-2384-4290-ad77-c45d01eeb54a",
     "showTitle": false,
     "tableResultSettingsMap": {},
     "title": ""
    }
   },
   "outputs": [],
   "source": [
    "df_race = df.filter(df['stop'].isNotNull())"
   ]
  },
  {
   "cell_type": "code",
   "execution_count": null,
   "metadata": {
    "application/vnd.databricks.v1+cell": {
     "cellMetadata": {
      "byteLimit": 2048000,
      "rowLimit": 10000
     },
     "inputWidgets": {},
     "nuid": "e5fab9f2-7b62-4808-b731-ab655794b57a",
     "showTitle": false,
     "tableResultSettingsMap": {},
     "title": ""
    }
   },
   "outputs": [],
   "source": [
    "df_race_cleaned= df_race[['raceId','driverId','milliseconds','time','lap','duration']]"
   ]
  },
  {
   "cell_type": "code",
   "execution_count": null,
   "metadata": {
    "application/vnd.databricks.v1+cell": {
     "cellMetadata": {
      "byteLimit": 2048000,
      "rowLimit": 10000
     },
     "inputWidgets": {},
     "nuid": "7f5c0610-ad6a-4dbc-b63c-35a59107aaeb",
     "showTitle": false,
     "tableResultSettingsMap": {},
     "title": ""
    }
   },
   "outputs": [
    {
     "name": "stdout",
     "output_type": "stream",
     "text": [
      "+------+--------+------------+--------+---+--------+\n",
      "|raceId|driverId|milliseconds|    time|lap|duration|\n",
      "+------+--------+------------+--------+---+--------+\n",
      "|  1052|     815|       23993|18:11:56|  2|  23.993|\n",
      "|  1052|     842|       38338|18:16:14|  4|  38.338|\n",
      "|  1052|       4|       24373|18:27:32| 11|  24.373|\n",
      "|  1052|     846|       24899|18:29:05| 12|  24.899|\n",
      "|  1052|     844|       24925|18:29:06| 12|  24.925|\n",
      "|  1052|     840|       24884|18:29:09| 12|  24.884|\n",
      "|  1052|     841|       31998|18:29:14| 12|  31.998|\n",
      "|  1052|       1|       24839|18:30:29| 13|  24.839|\n",
      "|  1052|     817|       24688|18:30:45| 13|  24.688|\n",
      "|  1052|       8|       24107|18:30:52| 13|  24.107|\n",
      "|  1052|     839|       25226|18:30:55| 13|  25.226|\n",
      "|  1052|     847|       24621|18:31:02| 13|  24.621|\n",
      "|  1052|     849|       26046|18:32:44| 14|  26.046|\n",
      "|  1052|     854|       25798|18:32:58| 14|  25.798|\n",
      "|  1052|     832|       24353|18:34:04| 15|  24.353|\n",
      "|  1052|     852|       25046|18:34:12| 15|  25.046|\n",
      "|  1052|     822|       24262|18:35:24| 16|  24.262|\n",
      "|  1052|     830|       24767|18:36:54| 17|  24.767|\n",
      "|  1052|     815|       24105|18:40:35| 19|  24.105|\n",
      "|  1052|     842|       24317|18:41:17| 19|  24.317|\n",
      "+------+--------+------------+--------+---+--------+\n",
      "only showing top 20 rows\n",
      "\n"
     ]
    }
   ],
   "source": [
    "df_race_cleaned.show()"
   ]
  }
 ],
 "metadata": {
  "application/vnd.databricks.v1+notebook": {
   "computePreferences": null,
   "dashboards": [],
   "environmentMetadata": {
    "base_environment": "",
    "environment_version": "2"
   },
   "language": "python",
   "notebookMetadata": {
    "pythonIndentUnit": 4
   },
   "notebookName": "cosmosdbspark",
   "widgets": {}
  },
  "kernelspec": {
   "display_name": "Python 3 (ipykernel)",
   "language": "python",
   "name": "python3"
  },
  "language_info": {
   "codemirror_mode": {
    "name": "ipython",
    "version": 3
   },
   "file_extension": ".py",
   "mimetype": "text/x-python",
   "name": "python",
   "nbconvert_exporter": "python",
   "pygments_lexer": "ipython3",
   "version": "3.11.7"
  }
 },
 "nbformat": 4,
 "nbformat_minor": 4
}
