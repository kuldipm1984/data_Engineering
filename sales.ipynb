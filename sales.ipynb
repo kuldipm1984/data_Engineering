{
 "cells": [
  {
   "cell_type": "code",
   "execution_count": 0,
   "metadata": {
    "application/vnd.databricks.v1+cell": {
     "cellMetadata": {
      "byteLimit": 2048000,
      "rowLimit": 10000
     },
     "inputWidgets": {},
     "nuid": "e1bb91f8-5fa4-41a3-b86b-db6fd22a18c2",
     "showTitle": false,
     "tableResultSettingsMap": {},
     "title": ""
    }
   },
   "outputs": [],
   "source": [
    "%run \"./config\""
   ]
  },
  {
   "cell_type": "code",
   "execution_count": 0,
   "metadata": {
    "application/vnd.databricks.v1+cell": {
     "cellMetadata": {
      "byteLimit": 2048000,
      "rowLimit": 10000
     },
     "inputWidgets": {},
     "nuid": "03e2f611-ca42-487d-a8e2-bb5030e46cf5",
     "showTitle": false,
     "tableResultSettingsMap": {},
     "title": ""
    }
   },
   "outputs": [],
   "source": [
    "spark.conf.set(\n",
    "    \"fs.azure.account.key.storekm01.dfs.core.windows.net\",\n",
    "    f'{key}'\n",
    ")"
   ]
  },
  {
   "cell_type": "code",
   "execution_count": 0,
   "metadata": {
    "application/vnd.databricks.v1+cell": {
     "cellMetadata": {
      "byteLimit": 2048000,
      "rowLimit": 10000
     },
     "inputWidgets": {},
     "nuid": "5010d589-3a78-4b3c-a80a-46368fa264f0",
     "showTitle": false,
     "tableResultSettingsMap": {},
     "title": ""
    }
   },
   "outputs": [
    {
     "output_type": "display_data",
     "data": {
      "text/html": [
       "<style scoped>\n",
       "  .table-result-container {\n",
       "    max-height: 300px;\n",
       "    overflow: auto;\n",
       "  }\n",
       "  table, th, td {\n",
       "    border: 1px solid black;\n",
       "    border-collapse: collapse;\n",
       "  }\n",
       "  th, td {\n",
       "    padding: 5px;\n",
       "  }\n",
       "  th {\n",
       "    text-align: left;\n",
       "  }\n",
       "</style><div class='table-result-container'><table class='table-result'><thead style='background-color: white'><tr><th>path</th><th>name</th><th>size</th><th>modificationTime</th></tr></thead><tbody><tr><td>abfss://rawdata@storekm01.dfs.core.windows.net/2025-01-01/</td><td>2025-01-01/</td><td>0</td><td>1736093953000</td></tr><tr><td>abfss://rawdata@storekm01.dfs.core.windows.net/2025-01-02/</td><td>2025-01-02/</td><td>0</td><td>1736093973000</td></tr><tr><td>abfss://rawdata@storekm01.dfs.core.windows.net/2025-01-03/</td><td>2025-01-03/</td><td>0</td><td>1736094000000</td></tr></tbody></table></div>"
      ]
     },
     "metadata": {
      "application/vnd.databricks.v1+output": {
       "addedWidgets": {},
       "aggData": [],
       "aggError": "",
       "aggOverflow": false,
       "aggSchema": [],
       "aggSeriesLimitReached": false,
       "aggType": "",
       "arguments": {},
       "columnCustomDisplayInfos": {},
       "data": [
        [
         "abfss://rawdata@storekm01.dfs.core.windows.net/2025-01-01/",
         "2025-01-01/",
         0,
         1736093953000
        ],
        [
         "abfss://rawdata@storekm01.dfs.core.windows.net/2025-01-02/",
         "2025-01-02/",
         0,
         1736093973000
        ],
        [
         "abfss://rawdata@storekm01.dfs.core.windows.net/2025-01-03/",
         "2025-01-03/",
         0,
         1736094000000
        ]
       ],
       "datasetInfos": [],
       "dbfsResultPath": null,
       "isJsonSchema": true,
       "metadata": {},
       "overflow": false,
       "plotOptions": {
        "customPlotOptions": {},
        "displayType": "table",
        "pivotAggregation": null,
        "pivotColumns": null,
        "xColumns": null,
        "yColumns": null
       },
       "removedWidgets": [],
       "schema": [
        {
         "metadata": "{}",
         "name": "path",
         "type": "\"string\""
        },
        {
         "metadata": "{}",
         "name": "name",
         "type": "\"string\""
        },
        {
         "metadata": "{}",
         "name": "size",
         "type": "\"long\""
        },
        {
         "metadata": "{}",
         "name": "modificationTime",
         "type": "\"long\""
        }
       ],
       "type": "table"
      }
     },
     "output_type": "display_data"
    }
   ],
   "source": [
    "display(dbutils.fs.ls(\"abfss://rawdata@storekm01.dfs.core.windows.net/\"))"
   ]
  },
  {
   "cell_type": "code",
   "execution_count": 0,
   "metadata": {
    "application/vnd.databricks.v1+cell": {
     "cellMetadata": {
      "byteLimit": 2048000,
      "rowLimit": 10000
     },
     "inputWidgets": {},
     "nuid": "b5d4428a-2694-469b-98cb-e398dee12a8f",
     "showTitle": false,
     "tableResultSettingsMap": {},
     "title": ""
    }
   },
   "outputs": [],
   "source": [
    "dbutils.widgets.text('Date','')\n",
    "input_value= dbutils.widgets.get('Date')"
   ]
  },
  {
   "cell_type": "code",
   "execution_count": 0,
   "metadata": {
    "application/vnd.databricks.v1+cell": {
     "cellMetadata": {
      "byteLimit": 2048000,
      "rowLimit": 10000
     },
     "inputWidgets": {},
     "nuid": "01f946ee-5250-460c-893f-02f5735b31df",
     "showTitle": false,
     "tableResultSettingsMap": {},
     "title": ""
    }
   },
   "outputs": [],
   "source": [
    "import pyspark\n",
    "# Create a spark session using getOrCreate() function \n",
    "from pyspark.sql import SparkSession \n",
    "spark_session = SparkSession.builder.getOrCreate()"
   ]
  },
  {
   "cell_type": "code",
   "execution_count": 0,
   "metadata": {
    "application/vnd.databricks.v1+cell": {
     "cellMetadata": {
      "byteLimit": 2048000,
      "rowLimit": 10000
     },
     "inputWidgets": {},
     "nuid": "cab473d4-13bf-4adf-9b13-cbbff6e956dc",
     "showTitle": false,
     "tableResultSettingsMap": {},
     "title": ""
    }
   },
   "outputs": [],
   "source": [
    "df_sales = spark_session.read.format( \n",
    "    \"csv\").option( \n",
    "    \"header\", True).load(f'{raw_folder_path}/salesorder1.csv') "
   ]
  },
  {
   "cell_type": "code",
   "execution_count": 0,
   "metadata": {
    "application/vnd.databricks.v1+cell": {
     "cellMetadata": {
      "byteLimit": 2048000,
      "rowLimit": 10000
     },
     "inputWidgets": {},
     "nuid": "f732d525-d931-4bd3-ae9a-e4128f7a1f92",
     "showTitle": false,
     "tableResultSettingsMap": {},
     "title": ""
    }
   },
   "outputs": [
    {
     "output_type": "stream",
     "name": "stdout",
     "output_type": "stream",
     "text": [
      "+------------+------------------+--------+---------+---------+-----------------+---------+--------------------+--------------------+\n|SalesOrderID|SalesOrderDetailID|OrderQty|ProductID|UnitPrice|UnitPriceDiscount|LineTotal|             rowguid|        ModifiedDate|\n+------------+------------------+--------+---------+---------+-----------------+---------+--------------------+--------------------+\n|       71774|            110562|       1|      836|  356.898|                0|  356.898|e3a1994c-7a68-4ce...|2008-06-01T00:00:...|\n|       71774|            110563|       1|      822|  356.898|                0|  356.898|5c77f557-fdb6-43b...|2008-06-01T00:00:...|\n|       71776|            110567|       1|      907|     63.9|                0|     63.9|6dbfe398-d15d-425...|2008-06-01T00:00:...|\n|       71780|            110616|       4|      905|  218.454|                0|  873.816|377246c9-4483-48e...|2008-06-01T00:00:...|\n|       71780|            110617|       2|      983|  461.694|                0|  923.388|43a54bcd-536d-4a1...|2008-06-01T00:00:...|\n|       71780|            110618|       6|      988|  112.998|              0.4| 406.7928|12706fab-f3a2-48c...|2008-06-01T00:00:...|\n|       71780|            110619|       2|      748|    818.7|                0|   1637.4|b12f0d3b-5b4e-4f1...|2008-06-01T00:00:...|\n|       71780|            110620|       1|      990|  323.994|                0|  323.994|f117a449-039d-44b...|2008-06-01T00:00:...|\n|       71780|            110621|       1|      926|  149.874|                0|  149.874|92e5052b-72d0-4c9...|2008-06-01T00:00:...|\n|       71780|            110622|       1|      743|   809.76|                0|   809.76|8bd33bed-c4f6-4d4...|2008-06-01T00:00:...|\n|       71780|            110623|       4|      782| 1376.994|                0| 5507.976|686999fb-42e6-4d0...|2008-06-01T00:00:...|\n|       71780|            110624|       2|      918|   158.43|                0|   316.86|82940b03-c70b-418...|2008-06-01T00:00:...|\n|       71780|            110625|       4|      780| 1391.994|                0| 5567.976|644b0cd6-b2c3-4e4...|2008-06-01T00:00:...|\n|       71780|            110626|       1|      937|   48.594|                0|   48.594|7f5feb17-8ef4-423...|2008-06-01T00:00:...|\n|       71780|            110627|       6|      867|   41.994|                0|  251.964|ac78838d-b503-41a...|2008-06-01T00:00:...|\n|       71780|            110628|       1|      985|  112.998|              0.4|  67.7988|2c10a282-a13d-442...|2008-06-01T00:00:...|\n|       71780|            110629|       2|      989|  323.994|                0|  647.988|654fb79e-70df-4b9...|2008-06-01T00:00:...|\n|       71780|            110630|       3|      991|  323.994|                0|  971.982|3d6ca7ab-055e-453...|2008-06-01T00:00:...|\n|       71780|            110631|       1|      992|  323.994|                0|  323.994|560feee1-dd54-4c3...|2008-06-01T00:00:...|\n|       71780|            110632|       2|      993|  323.994|                0|  647.988|19570052-4023-465...|2008-06-01T00:00:...|\n+------------+------------------+--------+---------+---------+-----------------+---------+--------------------+--------------------+\nonly showing top 20 rows\n"
     ]
    }
   ],
   "source": [
    "df_sales.show()"
   ]
  },
  {
   "cell_type": "code",
   "execution_count": 0,
   "metadata": {
    "application/vnd.databricks.v1+cell": {
     "cellMetadata": {
      "byteLimit": 2048000,
      "rowLimit": 10000
     },
     "inputWidgets": {},
     "nuid": "a36c8e67-ae49-458e-ade3-bc706fe72a72",
     "showTitle": false,
     "tableResultSettingsMap": {},
     "title": ""
    }
   },
   "outputs": [],
   "source": [
    "from pyspark.sql.functions import col,concat_ws, current_timestamp, lit, split,to_date\n",
    "df_sales_modified= df_sales.withColumn('ModifiedDate', to_date(col('ModifiedDate')))\\\n",
    "               .drop('rowguid')\\\n",
    "               .withColumn(\"Date\",lit(input_value))\\\n",
    "               .withColumnRenamed(\"ModifiedDate\",\"Salesdate\")\n"
   ]
  },
  {
   "cell_type": "code",
   "execution_count": 0,
   "metadata": {
    "application/vnd.databricks.v1+cell": {
     "cellMetadata": {
      "byteLimit": 2048000,
      "rowLimit": 10000
     },
     "inputWidgets": {},
     "nuid": "d3f5cc74-33ac-4988-af64-05481aacc955",
     "showTitle": false,
     "tableResultSettingsMap": {},
     "title": ""
    }
   },
   "outputs": [
    {
     "output_type": "stream",
     "name": "stdout",
     "output_type": "stream",
     "text": [
      "+------------+------------------+--------+---------+---------+-----------------+---------+----------+----+\n|SalesOrderID|SalesOrderDetailID|OrderQty|ProductID|UnitPrice|UnitPriceDiscount|LineTotal| Salesdate|Date|\n+------------+------------------+--------+---------+---------+-----------------+---------+----------+----+\n|       71774|            110562|       1|      836|  356.898|                0|  356.898|2008-06-01|    |\n|       71774|            110563|       1|      822|  356.898|                0|  356.898|2008-06-01|    |\n|       71776|            110567|       1|      907|     63.9|                0|     63.9|2008-06-01|    |\n|       71780|            110616|       4|      905|  218.454|                0|  873.816|2008-06-01|    |\n|       71780|            110617|       2|      983|  461.694|                0|  923.388|2008-06-01|    |\n|       71780|            110618|       6|      988|  112.998|              0.4| 406.7928|2008-06-01|    |\n|       71780|            110619|       2|      748|    818.7|                0|   1637.4|2008-06-01|    |\n|       71780|            110620|       1|      990|  323.994|                0|  323.994|2008-06-01|    |\n|       71780|            110621|       1|      926|  149.874|                0|  149.874|2008-06-01|    |\n|       71780|            110622|       1|      743|   809.76|                0|   809.76|2008-06-01|    |\n|       71780|            110623|       4|      782| 1376.994|                0| 5507.976|2008-06-01|    |\n|       71780|            110624|       2|      918|   158.43|                0|   316.86|2008-06-01|    |\n|       71780|            110625|       4|      780| 1391.994|                0| 5567.976|2008-06-01|    |\n|       71780|            110626|       1|      937|   48.594|                0|   48.594|2008-06-01|    |\n|       71780|            110627|       6|      867|   41.994|                0|  251.964|2008-06-01|    |\n|       71780|            110628|       1|      985|  112.998|              0.4|  67.7988|2008-06-01|    |\n|       71780|            110629|       2|      989|  323.994|                0|  647.988|2008-06-01|    |\n|       71780|            110630|       3|      991|  323.994|                0|  971.982|2008-06-01|    |\n|       71780|            110631|       1|      992|  323.994|                0|  323.994|2008-06-01|    |\n|       71780|            110632|       2|      993|  323.994|                0|  647.988|2008-06-01|    |\n+------------+------------------+--------+---------+---------+-----------------+---------+----------+----+\nonly showing top 20 rows\n"
     ]
    }
   ],
   "source": [
    "df_sales_modified.show()"
   ]
  },
  {
   "cell_type": "code",
   "execution_count": 0,
   "metadata": {
    "application/vnd.databricks.v1+cell": {
     "cellMetadata": {
      "byteLimit": 2048000,
      "rowLimit": 10000
     },
     "inputWidgets": {},
     "nuid": "76cb0254-6de0-4691-bc5d-719d1124c37b",
     "showTitle": false,
     "tableResultSettingsMap": {},
     "title": ""
    }
   },
   "outputs": [
    {
     "output_type": "stream",
     "name": "stdout",
     "output_type": "stream",
     "text": [
      "root\n |-- SalesOrderID: string (nullable = true)\n |-- SalesOrderDetailID: string (nullable = true)\n |-- OrderQty: string (nullable = true)\n |-- ProductID: string (nullable = true)\n |-- UnitPrice: string (nullable = true)\n |-- UnitPriceDiscount: string (nullable = true)\n |-- LineTotal: string (nullable = true)\n |-- Salesdate: date (nullable = true)\n |-- Date: string (nullable = false)\n\n"
     ]
    }
   ],
   "source": [
    "df_sales_modified.printSchema()"
   ]
  },
  {
   "cell_type": "code",
   "execution_count": 0,
   "metadata": {
    "application/vnd.databricks.v1+cell": {
     "cellMetadata": {
      "byteLimit": 2048000,
      "rowLimit": 10000
     },
     "inputWidgets": {},
     "nuid": "a2375b52-588f-4a9b-b2ac-912efa45c479",
     "showTitle": false,
     "tableResultSettingsMap": {},
     "title": ""
    }
   },
   "outputs": [],
   "source": [
    "from pyspark.sql.functions import col\n",
    "from pyspark.sql.types import IntegerType, StringType, DoubleType,DateType\n",
    "\n",
    "df_sales_data = (df_sales_modified\n",
    "                   .withColumn(\"SalesOrderID\", col(\"SalesOrderID\").cast(IntegerType()))\n",
    "                   .withColumn(\"SalesOrderDetailID\", col(\"SalesOrderDetailID\").cast(IntegerType()))\n",
    "                   .withColumn(\"OrderQty\", col(\"OrderQty\").cast(IntegerType()))\n",
    "                   .withColumn(\"ProductID\", col(\"ProductID\").cast(IntegerType()))\n",
    "                   .withColumn(\"UnitPrice\", col(\"UnitPrice\").cast(DoubleType()))\n",
    "                   .withColumn(\"UnitPriceDiscount\", col(\"UnitPriceDiscount\").cast(DoubleType()))\n",
    "                   .withColumn(\"LineTotal\", col(\"LineTotal\").cast(DoubleType()))\n",
    "                   .withColumn(\"Salesdate\", col(\"Salesdate\").cast(DateType()))\n",
    "                   .withColumn(\"Date\", col(\"Date\").cast(DateType())))"
   ]
  },
  {
   "cell_type": "code",
   "execution_count": 0,
   "metadata": {
    "application/vnd.databricks.v1+cell": {
     "cellMetadata": {
      "byteLimit": 2048000,
      "rowLimit": 10000
     },
     "inputWidgets": {},
     "nuid": "63d0278d-41f9-448c-a3f4-be16cd7ab397",
     "showTitle": false,
     "tableResultSettingsMap": {},
     "title": ""
    }
   },
   "outputs": [
    {
     "output_type": "stream",
     "name": "stdout",
     "output_type": "stream",
     "text": [
      "root\n |-- SalesOrderID: integer (nullable = true)\n |-- SalesOrderDetailID: integer (nullable = true)\n |-- OrderQty: integer (nullable = true)\n |-- ProductID: integer (nullable = true)\n |-- UnitPrice: double (nullable = true)\n |-- UnitPriceDiscount: double (nullable = true)\n |-- LineTotal: double (nullable = true)\n |-- Salesdate: date (nullable = true)\n |-- Date: date (nullable = true)\n\n"
     ]
    }
   ],
   "source": [
    "df_sales_data.printSchema()"
   ]
  },
  {
   "cell_type": "code",
   "execution_count": 0,
   "metadata": {
    "application/vnd.databricks.v1+cell": {
     "cellMetadata": {
      "byteLimit": 2048000,
      "rowLimit": 10000
     },
     "inputWidgets": {},
     "nuid": "dd9ea092-6bb8-405e-850d-e40820d7cb69",
     "showTitle": false,
     "tableResultSettingsMap": {},
     "title": ""
    }
   },
   "outputs": [],
   "source": [
    "sales_data_processed= df_sales_data.write.mode( \"overwrite\").option(\"header\", \"true\").csv(f'{processed_folder_path}/salesdata')"
   ]
  }
 ],
 "metadata": {
  "application/vnd.databricks.v1+notebook": {
   "computePreferences": null,
   "dashboards": [],
   "environmentMetadata": {
    "base_environment": "",
    "client": "1"
   },
   "language": "python",
   "notebookMetadata": {
    "pythonIndentUnit": 4
   },
   "notebookName": "sales",
   "widgets": {
    "Date": {
     "currentValue": "",
     "nuid": "036bdc88-83ae-4404-9f20-d1a842758a3c",
     "typedWidgetInfo": {
      "autoCreated": false,
      "defaultValue": "",
      "label": null,
      "name": "Date",
      "options": {
       "widgetDisplayType": "Text",
       "validationRegex": null
      },
      "parameterDataType": "String"
     },
     "widgetInfo": {
      "widgetType": "text",
      "defaultValue": "",
      "label": null,
      "name": "Date",
      "options": {
       "widgetType": "text",
       "autoCreated": null,
       "validationRegex": null
      }
     }
    }
   }
  },
  "language_info": {
   "name": "python"
  }
 },
 "nbformat": 4,
 "nbformat_minor": 0
}