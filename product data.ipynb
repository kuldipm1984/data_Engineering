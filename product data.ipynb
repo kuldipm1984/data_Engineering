{
 "cells": [
  {
   "cell_type": "code",
   "execution_count": 0,
   "metadata": {
    "application/vnd.databricks.v1+cell": {
     "cellMetadata": {
      "byteLimit": 2048000,
      "rowLimit": 10000
     },
     "inputWidgets": {},
     "nuid": "10ee6e68-8eb8-4ae2-9c3e-faaafc4b7852",
     "showTitle": false,
     "tableResultSettingsMap": {},
     "title": ""
    }
   },
   "outputs": [],
   "source": [
    "%run \"./config\""
   ]
  },
  {
   "cell_type": "code",
   "execution_count": 0,
   "metadata": {
    "application/vnd.databricks.v1+cell": {
     "cellMetadata": {
      "byteLimit": 2048000,
      "rowLimit": 10000
     },
     "inputWidgets": {},
     "nuid": "b625890a-2981-409a-9980-c6ed9683c3ed",
     "showTitle": false,
     "tableResultSettingsMap": {},
     "title": ""
    }
   },
   "outputs": [],
   "source": [
    "spark.conf.set(\n",
    "    \"fs.azure.account.key.storekm01.dfs.core.windows.net\",\n",
    "    f'{key}'\n",
    ")"
   ]
  },
  {
   "cell_type": "code",
   "execution_count": 0,
   "metadata": {
    "application/vnd.databricks.v1+cell": {
     "cellMetadata": {
      "byteLimit": 2048000,
      "rowLimit": 10000
     },
     "inputWidgets": {},
     "nuid": "1733822a-8ceb-4a6c-a525-4534c4237425",
     "showTitle": false,
     "tableResultSettingsMap": {},
     "title": ""
    }
   },
   "outputs": [
    {
     "output_type": "display_data",
     "data": {
      "text/html": [
       "<style scoped>\n",
       "  .table-result-container {\n",
       "    max-height: 300px;\n",
       "    overflow: auto;\n",
       "  }\n",
       "  table, th, td {\n",
       "    border: 1px solid black;\n",
       "    border-collapse: collapse;\n",
       "  }\n",
       "  th, td {\n",
       "    padding: 5px;\n",
       "  }\n",
       "  th {\n",
       "    text-align: left;\n",
       "  }\n",
       "</style><div class='table-result-container'><table class='table-result'><thead style='background-color: white'><tr><th>path</th><th>name</th><th>size</th><th>modificationTime</th></tr></thead><tbody><tr><td>abfss://rawdata@storekm01.dfs.core.windows.net/2025-01-01/</td><td>2025-01-01/</td><td>0</td><td>1736093953000</td></tr><tr><td>abfss://rawdata@storekm01.dfs.core.windows.net/2025-01-02/</td><td>2025-01-02/</td><td>0</td><td>1736093973000</td></tr><tr><td>abfss://rawdata@storekm01.dfs.core.windows.net/2025-01-03/</td><td>2025-01-03/</td><td>0</td><td>1736094000000</td></tr></tbody></table></div>"
      ]
     },
     "metadata": {
      "application/vnd.databricks.v1+output": {
       "addedWidgets": {},
       "aggData": [],
       "aggError": "",
       "aggOverflow": false,
       "aggSchema": [],
       "aggSeriesLimitReached": false,
       "aggType": "",
       "arguments": {},
       "columnCustomDisplayInfos": {},
       "data": [
        [
         "abfss://rawdata@storekm01.dfs.core.windows.net/2025-01-01/",
         "2025-01-01/",
         0,
         1736093953000
        ],
        [
         "abfss://rawdata@storekm01.dfs.core.windows.net/2025-01-02/",
         "2025-01-02/",
         0,
         1736093973000
        ],
        [
         "abfss://rawdata@storekm01.dfs.core.windows.net/2025-01-03/",
         "2025-01-03/",
         0,
         1736094000000
        ]
       ],
       "datasetInfos": [],
       "dbfsResultPath": null,
       "isJsonSchema": true,
       "metadata": {},
       "overflow": false,
       "plotOptions": {
        "customPlotOptions": {},
        "displayType": "table",
        "pivotAggregation": null,
        "pivotColumns": null,
        "xColumns": null,
        "yColumns": null
       },
       "removedWidgets": [],
       "schema": [
        {
         "metadata": "{}",
         "name": "path",
         "type": "\"string\""
        },
        {
         "metadata": "{}",
         "name": "name",
         "type": "\"string\""
        },
        {
         "metadata": "{}",
         "name": "size",
         "type": "\"long\""
        },
        {
         "metadata": "{}",
         "name": "modificationTime",
         "type": "\"long\""
        }
       ],
       "type": "table"
      }
     },
     "output_type": "display_data"
    }
   ],
   "source": [
    "display(dbutils.fs.ls(\"abfss://rawdata@storekm01.dfs.core.windows.net/\"))"
   ]
  },
  {
   "cell_type": "code",
   "execution_count": 0,
   "metadata": {
    "application/vnd.databricks.v1+cell": {
     "cellMetadata": {
      "byteLimit": 2048000,
      "rowLimit": 10000
     },
     "inputWidgets": {},
     "nuid": "0fde6abb-0b8d-4fb2-b280-95d5e3b357fb",
     "showTitle": false,
     "tableResultSettingsMap": {},
     "title": ""
    }
   },
   "outputs": [],
   "source": [
    "dbutils.widgets.text('Date','')\n",
    "input_value= dbutils.widgets.get('Date')"
   ]
  },
  {
   "cell_type": "code",
   "execution_count": 0,
   "metadata": {
    "application/vnd.databricks.v1+cell": {
     "cellMetadata": {
      "byteLimit": 2048000,
      "rowLimit": 10000
     },
     "inputWidgets": {},
     "nuid": "b293beba-dab3-467f-bd3b-28f0e791eb36",
     "showTitle": false,
     "tableResultSettingsMap": {},
     "title": ""
    }
   },
   "outputs": [],
   "source": [
    "import pyspark\n",
    "# Create a spark session using getOrCreate() function \n",
    "from pyspark.sql import SparkSession \n",
    "spark_session = SparkSession.builder.getOrCreate() "
   ]
  },
  {
   "cell_type": "code",
   "execution_count": 0,
   "metadata": {
    "application/vnd.databricks.v1+cell": {
     "cellMetadata": {
      "byteLimit": 2048000,
      "rowLimit": 10000
     },
     "inputWidgets": {},
     "nuid": "3eff5fa4-1ac3-4da7-ad4d-3ecbd9f7b7f3",
     "showTitle": false,
     "tableResultSettingsMap": {},
     "title": ""
    }
   },
   "outputs": [],
   "source": [
    "df_category = spark_session.read.format( \n",
    "    \"csv\").option( \n",
    "    \"header\", True).load(f'{raw_folder_path}/product category.csv') "
   ]
  },
  {
   "cell_type": "code",
   "execution_count": 0,
   "metadata": {
    "application/vnd.databricks.v1+cell": {
     "cellMetadata": {
      "byteLimit": 2048000,
      "rowLimit": 10000
     },
     "inputWidgets": {},
     "nuid": "0916e632-ed5a-4bf4-995a-67e72a84a8a1",
     "showTitle": false,
     "tableResultSettingsMap": {},
     "title": ""
    }
   },
   "outputs": [
    {
     "output_type": "stream",
     "name": "stdout",
     "output_type": "stream",
     "text": [
      "+-----------------+-----------------------+---------------+--------------------+--------------------+\n|ProductCategoryID|ParentProductCategoryID|           Name|             rowguid|        ModifiedDate|\n+-----------------+-----------------------+---------------+--------------------+--------------------+\n|                1|                      1|          Bikes|cfbda25c-df71-47a...|2002-06-01T00:00:...|\n|                2|                      2|     Components|c657828d-d808-4ab...|2002-06-01T00:00:...|\n|                3|                      3|       Clothing|10a7c342-ca82-48d...|2002-06-01T00:00:...|\n|                4|                      4|    Accessories|2be3be36-d9a2-4ee...|2002-06-01T00:00:...|\n|                5|                      1| Mountain Bikes|2d364ade-264a-433...|2002-06-01T00:00:...|\n|                6|                      1|     Road Bikes|000310c0-bcc8-42c...|2002-06-01T00:00:...|\n|                7|                      1|  Touring Bikes|02c5061d-ecdc-427...|2002-06-01T00:00:...|\n|                8|                      2|     Handlebars|3ef2c725-7135-4c8...|2002-06-01T00:00:...|\n|                9|                      2|Bottom Brackets|a9e54089-8a1e-4cf...|2002-06-01T00:00:...|\n|               10|                      2|         Brakes|d43ba4a3-ef0d-426...|2002-06-01T00:00:...|\n|               11|                      2|         Chains|e93a7231-f16c-4b0...|2002-06-01T00:00:...|\n|               12|                      2|      Cranksets|4f644521-422b-4f1...|2002-06-01T00:00:...|\n|               13|                      2|    Derailleurs|1830d70c-aa2a-40c...|2002-06-01T00:00:...|\n|               14|                      2|          Forks|b5f9ba42-b69b-4fd...|2002-06-01T00:00:...|\n|               15|                      2|       Headsets|7c782bbe-5a16-495...|2002-06-01T00:00:...|\n|               16|                      2|Mountain Frames|61b21b65-e16a-4be...|2002-06-01T00:00:...|\n|               17|                      2|         Pedals|6d24ac07-7a84-484...|2002-06-01T00:00:...|\n|               18|                      2|    Road Frames|5515f857-075b-4f9...|2002-06-01T00:00:...|\n|               19|                      2|        Saddles|049fffa3-9d30-46d...|2002-06-01T00:00:...|\n|               20|                      2| Touring Frames|d2e3f1a8-56c4-4f3...|2002-06-01T00:00:...|\n+-----------------+-----------------------+---------------+--------------------+--------------------+\nonly showing top 20 rows\n"
     ]
    }
   ],
   "source": [
    "df_category.show()"
   ]
  },
  {
   "cell_type": "code",
   "execution_count": 0,
   "metadata": {
    "application/vnd.databricks.v1+cell": {
     "cellMetadata": {
      "byteLimit": 2048000,
      "rowLimit": 10000
     },
     "inputWidgets": {},
     "nuid": "ddb7cb4b-7db8-497e-91f5-6f09a40111f7",
     "showTitle": false,
     "tableResultSettingsMap": {},
     "title": ""
    }
   },
   "outputs": [],
   "source": [
    "df_category=df_category.withColumnRenamed(\"Name\",\"Category Name\")"
   ]
  },
  {
   "cell_type": "code",
   "execution_count": 0,
   "metadata": {
    "application/vnd.databricks.v1+cell": {
     "cellMetadata": {
      "byteLimit": 2048000,
      "rowLimit": 10000
     },
     "inputWidgets": {},
     "nuid": "4dcc62d5-76ad-420d-82c7-dec35a29d215",
     "showTitle": false,
     "tableResultSettingsMap": {},
     "title": ""
    }
   },
   "outputs": [],
   "source": [
    "df_product = spark_session.read.format( \n",
    "    \"csv\").option( \n",
    "    \"header\", True).load(f'{raw_folder_path}/product.csv')"
   ]
  },
  {
   "cell_type": "code",
   "execution_count": 0,
   "metadata": {
    "application/vnd.databricks.v1+cell": {
     "cellMetadata": {
      "byteLimit": 2048000,
      "rowLimit": 10000
     },
     "inputWidgets": {},
     "nuid": "e772a56c-d82d-494c-80ee-61d4a2218931",
     "showTitle": false,
     "tableResultSettingsMap": {},
     "title": ""
    }
   },
   "outputs": [
    {
     "output_type": "stream",
     "name": "stdout",
     "output_type": "stream",
     "text": [
      "+---------+--------------------+-------------+-----+------------+---------+----+-------+-----------------+--------------+--------------------+--------------------+----------------+--------------------+----------------------+--------------------+--------------------+\n|ProductID|                Name|ProductNumber|Color|StandardCost|ListPrice|Size| Weight|ProductCategoryID|ProductModelID|       SellStartDate|         SellEndDate|DiscontinuedDate|      ThumbNailPhoto|ThumbnailPhotoFileName|             rowguid|        ModifiedDate|\n+---------+--------------------+-------------+-----+------------+---------+----+-------+-----------------+--------------+--------------------+--------------------+----------------+--------------------+----------------------+--------------------+--------------------+\n|      680|HL Road Frame - B...|   FR-R92B-58|Black|   1059.3100|1431.5000|  58|1016.04|               18|             6|2002-06-01T00:00:...|                NULL|            NULL|R0lGODlhUAAxAPcAA...|  no_image_availabl...|43dd68d6-14a4-461...|2008-03-11T10:01:...|\n|      706|HL Road Frame - R...|   FR-R92R-58|  Red|   1059.3100|1431.5000|  58|1016.04|               18|             6|2002-06-01T00:00:...|                NULL|            NULL|R0lGODlhUAAxAPcAA...|  no_image_availabl...|9540ff17-2712-4c9...|2008-03-11T10:01:...|\n|      707|Sport-100 Helmet,...|    HL-U509-R|  Red|     13.0863|  34.9900|NULL|   NULL|               35|            33|2005-07-01T00:00:...|                NULL|            NULL|R0lGODlhUAAxAPcAA...|  no_image_availabl...|2e1ef41a-c08a-4ff...|2008-03-11T10:01:...|\n|      708|Sport-100 Helmet,...|      HL-U509|Black|     13.0863|  34.9900|NULL|   NULL|               35|            33|2005-07-01T00:00:...|                NULL|            NULL|R0lGODlhUAAxAPcAA...|  no_image_availabl...|a25a44fb-c2de-426...|2008-03-11T10:01:...|\n|      709|Mountain Bike Soc...|    SO-B909-M|White|      3.3963|   9.5000|   M|   NULL|               27|            18|2005-07-01T00:00:...|2006-06-30T00:00:...|            NULL|R0lGODlhUAAxAPcAA...|  no_image_availabl...|18f95f47-1540-4e0...|2008-03-11T10:01:...|\n|      710|Mountain Bike Soc...|    SO-B909-L|White|      3.3963|   9.5000|   L|   NULL|               27|            18|2005-07-01T00:00:...|2006-06-30T00:00:...|            NULL|R0lGODlhUAAxAPcAA...|  no_image_availabl...|161c035e-21b3-4e1...|2008-03-11T10:01:...|\n|      711|Sport-100 Helmet,...|    HL-U509-B| Blue|     13.0863|  34.9900|NULL|   NULL|               35|            33|2005-07-01T00:00:...|                NULL|            NULL|R0lGODlhUAAxAPcAA...|  no_image_availabl...|fd7c0858-4179-48c...|2008-03-11T10:01:...|\n|      712|        AWC Logo Cap|      CA-1098|Multi|      6.9223|   8.9900|NULL|   NULL|               23|             2|2005-07-01T00:00:...|                NULL|            NULL|R0lGODlhUAAxAPcAA...|  no_image_availabl...|b9ede243-a6f4-462...|2008-03-11T10:01:...|\n|      713|Long-Sleeve Logo ...|    LJ-0192-S|Multi|     38.4923|  49.9900|   S|   NULL|               25|            11|2005-07-01T00:00:...|                NULL|            NULL|R0lGODlhUAAyAPcAA...|  awc_jersey_male_s...|fd449c82-a259-4fa...|2008-03-11T10:01:...|\n|      714|Long-Sleeve Logo ...|    LJ-0192-M|Multi|     38.4923|  49.9900|   M|   NULL|               25|            11|2005-07-01T00:00:...|                NULL|            NULL|R0lGODlhUAAyAPcAA...|  awc_jersey_male_s...|6a290063-a0cf-432...|2008-03-11T10:01:...|\n|      715|Long-Sleeve Logo ...|    LJ-0192-L|Multi|     38.4923|  49.9900|   L|   NULL|               25|            11|2005-07-01T00:00:...|                NULL|            NULL|R0lGODlhUAAyAPcAA...|  awc_jersey_male_s...|34cf5ef5-c077-4ea...|2008-03-11T10:01:...|\n|      716|Long-Sleeve Logo ...|    LJ-0192-X|Multi|     38.4923|  49.9900|  XL|   NULL|               25|            11|2005-07-01T00:00:...|                NULL|            NULL|R0lGODlhUAAyAPcAA...|  awc_jersey_male_s...|6ec47ec9-c041-4dd...|2008-03-11T10:01:...|\n|      717|HL Road Frame - R...|   FR-R92R-62|  Red|    868.6342|1431.5000|  62|1043.26|               18|             6|2005-07-01T00:00:...|                NULL|            NULL|R0lGODlhUAAxAPcAA...|  no_image_availabl...|052e4f8b-0a2a-46b...|2008-03-11T10:01:...|\n|      718|HL Road Frame - R...|   FR-R92R-44|  Red|    868.6342|1431.5000|  44| 961.61|               18|             6|2005-07-01T00:00:...|                NULL|            NULL|R0lGODlhUAAxAPcAA...|  no_image_availabl...|a88d3b54-2cae-43f...|2008-03-11T10:01:...|\n|      719|HL Road Frame - R...|   FR-R92R-48|  Red|    868.6342|1431.5000|  48| 979.75|               18|             6|2005-07-01T00:00:...|                NULL|            NULL|R0lGODlhUAAxAPcAA...|  no_image_availabl...|07befc9a-7634-402...|2008-03-11T10:01:...|\n|      720|HL Road Frame - R...|   FR-R92R-52|  Red|    868.6342|1431.5000|  52| 997.90|               18|             6|2005-07-01T00:00:...|                NULL|            NULL|R0lGODlhUAAxAPcAA...|  no_image_availabl...|fcfea68f-310e-4e6...|2008-03-11T10:01:...|\n|      721|HL Road Frame - R...|   FR-R92R-56|  Red|    868.6342|1431.5000|  56|1016.04|               18|             6|2005-07-01T00:00:...|                NULL|            NULL|R0lGODlhUAAxAPcAA...|  no_image_availabl...|56c85873-4993-41b...|2008-03-11T10:01:...|\n|      722|LL Road Frame - B...|   FR-R38B-58|Black|    204.6251| 337.2200|  58|1115.83|               18|             9|2005-07-01T00:00:...|                NULL|            NULL|R0lGODlhUAAxAPcAA...|  no_image_availabl...|2140f256-f705-4d6...|2008-03-11T10:01:...|\n|      723|LL Road Frame - B...|   FR-R38B-60|Black|    204.6251| 337.2200|  60|1124.90|               18|             9|2005-07-01T00:00:...|                NULL|            NULL|R0lGODlhUAAxAPcAA...|  no_image_availabl...|aa95e2a5-e7c4-4b7...|2008-03-11T10:01:...|\n|      724|LL Road Frame - B...|   FR-R38B-62|Black|    204.6251| 337.2200|  62|1133.98|               18|             9|2005-07-01T00:00:...|                NULL|            NULL|R0lGODlhUAAxAPcAA...|  no_image_availabl...|5247be33-50bf-452...|2008-03-11T10:01:...|\n+---------+--------------------+-------------+-----+------------+---------+----+-------+-----------------+--------------+--------------------+--------------------+----------------+--------------------+----------------------+--------------------+--------------------+\nonly showing top 20 rows\n"
     ]
    }
   ],
   "source": [
    "df_product.show()"
   ]
  },
  {
   "cell_type": "code",
   "execution_count": 0,
   "metadata": {
    "application/vnd.databricks.v1+cell": {
     "cellMetadata": {
      "byteLimit": 2048000,
      "rowLimit": 10000
     },
     "inputWidgets": {},
     "nuid": "fee48985-8df3-48bb-9157-35eda0bec01b",
     "showTitle": false,
     "tableResultSettingsMap": {},
     "title": ""
    }
   },
   "outputs": [
    {
     "output_type": "stream",
     "name": "stdout",
     "output_type": "stream",
     "text": [
      "+---------+--------------------+-------------+-----+------------+---------+----+-------+--------------+--------------------+--------------------+----------------+--------------------+----------------------+--------------------+--------------------+-----------------+-----------------------+-------------+--------------------+--------------------+\n|ProductID|                Name|ProductNumber|Color|StandardCost|ListPrice|Size| Weight|ProductModelID|       SellStartDate|         SellEndDate|DiscontinuedDate|      ThumbNailPhoto|ThumbnailPhotoFileName|             rowguid|        ModifiedDate|ProductCategoryID|ParentProductCategoryID|Category Name|             rowguid|        ModifiedDate|\n+---------+--------------------+-------------+-----+------------+---------+----+-------+--------------+--------------------+--------------------+----------------+--------------------+----------------------+--------------------+--------------------+-----------------+-----------------------+-------------+--------------------+--------------------+\n|      680|HL Road Frame - B...|   FR-R92B-58|Black|   1059.3100|1431.5000|  58|1016.04|             6|2002-06-01T00:00:...|                NULL|            NULL|R0lGODlhUAAxAPcAA...|  no_image_availabl...|43dd68d6-14a4-461...|2008-03-11T10:01:...|               18|                      2|  Road Frames|5515f857-075b-4f9...|2002-06-01T00:00:...|\n|      706|HL Road Frame - R...|   FR-R92R-58|  Red|   1059.3100|1431.5000|  58|1016.04|             6|2002-06-01T00:00:...|                NULL|            NULL|R0lGODlhUAAxAPcAA...|  no_image_availabl...|9540ff17-2712-4c9...|2008-03-11T10:01:...|               18|                      2|  Road Frames|5515f857-075b-4f9...|2002-06-01T00:00:...|\n|      707|Sport-100 Helmet,...|    HL-U509-R|  Red|     13.0863|  34.9900|NULL|   NULL|            33|2005-07-01T00:00:...|                NULL|            NULL|R0lGODlhUAAxAPcAA...|  no_image_availabl...|2e1ef41a-c08a-4ff...|2008-03-11T10:01:...|               35|                      4|      Helmets|f5e07a33-c9e0-439...|2002-06-01T00:00:...|\n|      708|Sport-100 Helmet,...|      HL-U509|Black|     13.0863|  34.9900|NULL|   NULL|            33|2005-07-01T00:00:...|                NULL|            NULL|R0lGODlhUAAxAPcAA...|  no_image_availabl...|a25a44fb-c2de-426...|2008-03-11T10:01:...|               35|                      4|      Helmets|f5e07a33-c9e0-439...|2002-06-01T00:00:...|\n|      709|Mountain Bike Soc...|    SO-B909-M|White|      3.3963|   9.5000|   M|   NULL|            18|2005-07-01T00:00:...|2006-06-30T00:00:...|            NULL|R0lGODlhUAAxAPcAA...|  no_image_availabl...|18f95f47-1540-4e0...|2008-03-11T10:01:...|               27|                      3|        Socks|701019c3-09fe-494...|2002-06-01T00:00:...|\n|      710|Mountain Bike Soc...|    SO-B909-L|White|      3.3963|   9.5000|   L|   NULL|            18|2005-07-01T00:00:...|2006-06-30T00:00:...|            NULL|R0lGODlhUAAxAPcAA...|  no_image_availabl...|161c035e-21b3-4e1...|2008-03-11T10:01:...|               27|                      3|        Socks|701019c3-09fe-494...|2002-06-01T00:00:...|\n|      711|Sport-100 Helmet,...|    HL-U509-B| Blue|     13.0863|  34.9900|NULL|   NULL|            33|2005-07-01T00:00:...|                NULL|            NULL|R0lGODlhUAAxAPcAA...|  no_image_availabl...|fd7c0858-4179-48c...|2008-03-11T10:01:...|               35|                      4|      Helmets|f5e07a33-c9e0-439...|2002-06-01T00:00:...|\n|      712|        AWC Logo Cap|      CA-1098|Multi|      6.9223|   8.9900|NULL|   NULL|             2|2005-07-01T00:00:...|                NULL|            NULL|R0lGODlhUAAxAPcAA...|  no_image_availabl...|b9ede243-a6f4-462...|2008-03-11T10:01:...|               23|                      3|         Caps|430dd6a8-a755-4b2...|2002-06-01T00:00:...|\n|      713|Long-Sleeve Logo ...|    LJ-0192-S|Multi|     38.4923|  49.9900|   S|   NULL|            11|2005-07-01T00:00:...|                NULL|            NULL|R0lGODlhUAAyAPcAA...|  awc_jersey_male_s...|fd449c82-a259-4fa...|2008-03-11T10:01:...|               25|                      3|      Jerseys|09e91437-ba4f-4b1...|2002-06-01T00:00:...|\n|      714|Long-Sleeve Logo ...|    LJ-0192-M|Multi|     38.4923|  49.9900|   M|   NULL|            11|2005-07-01T00:00:...|                NULL|            NULL|R0lGODlhUAAyAPcAA...|  awc_jersey_male_s...|6a290063-a0cf-432...|2008-03-11T10:01:...|               25|                      3|      Jerseys|09e91437-ba4f-4b1...|2002-06-01T00:00:...|\n|      715|Long-Sleeve Logo ...|    LJ-0192-L|Multi|     38.4923|  49.9900|   L|   NULL|            11|2005-07-01T00:00:...|                NULL|            NULL|R0lGODlhUAAyAPcAA...|  awc_jersey_male_s...|34cf5ef5-c077-4ea...|2008-03-11T10:01:...|               25|                      3|      Jerseys|09e91437-ba4f-4b1...|2002-06-01T00:00:...|\n|      716|Long-Sleeve Logo ...|    LJ-0192-X|Multi|     38.4923|  49.9900|  XL|   NULL|            11|2005-07-01T00:00:...|                NULL|            NULL|R0lGODlhUAAyAPcAA...|  awc_jersey_male_s...|6ec47ec9-c041-4dd...|2008-03-11T10:01:...|               25|                      3|      Jerseys|09e91437-ba4f-4b1...|2002-06-01T00:00:...|\n|      717|HL Road Frame - R...|   FR-R92R-62|  Red|    868.6342|1431.5000|  62|1043.26|             6|2005-07-01T00:00:...|                NULL|            NULL|R0lGODlhUAAxAPcAA...|  no_image_availabl...|052e4f8b-0a2a-46b...|2008-03-11T10:01:...|               18|                      2|  Road Frames|5515f857-075b-4f9...|2002-06-01T00:00:...|\n|      718|HL Road Frame - R...|   FR-R92R-44|  Red|    868.6342|1431.5000|  44| 961.61|             6|2005-07-01T00:00:...|                NULL|            NULL|R0lGODlhUAAxAPcAA...|  no_image_availabl...|a88d3b54-2cae-43f...|2008-03-11T10:01:...|               18|                      2|  Road Frames|5515f857-075b-4f9...|2002-06-01T00:00:...|\n|      719|HL Road Frame - R...|   FR-R92R-48|  Red|    868.6342|1431.5000|  48| 979.75|             6|2005-07-01T00:00:...|                NULL|            NULL|R0lGODlhUAAxAPcAA...|  no_image_availabl...|07befc9a-7634-402...|2008-03-11T10:01:...|               18|                      2|  Road Frames|5515f857-075b-4f9...|2002-06-01T00:00:...|\n|      720|HL Road Frame - R...|   FR-R92R-52|  Red|    868.6342|1431.5000|  52| 997.90|             6|2005-07-01T00:00:...|                NULL|            NULL|R0lGODlhUAAxAPcAA...|  no_image_availabl...|fcfea68f-310e-4e6...|2008-03-11T10:01:...|               18|                      2|  Road Frames|5515f857-075b-4f9...|2002-06-01T00:00:...|\n|      721|HL Road Frame - R...|   FR-R92R-56|  Red|    868.6342|1431.5000|  56|1016.04|             6|2005-07-01T00:00:...|                NULL|            NULL|R0lGODlhUAAxAPcAA...|  no_image_availabl...|56c85873-4993-41b...|2008-03-11T10:01:...|               18|                      2|  Road Frames|5515f857-075b-4f9...|2002-06-01T00:00:...|\n|      722|LL Road Frame - B...|   FR-R38B-58|Black|    204.6251| 337.2200|  58|1115.83|             9|2005-07-01T00:00:...|                NULL|            NULL|R0lGODlhUAAxAPcAA...|  no_image_availabl...|2140f256-f705-4d6...|2008-03-11T10:01:...|               18|                      2|  Road Frames|5515f857-075b-4f9...|2002-06-01T00:00:...|\n|      723|LL Road Frame - B...|   FR-R38B-60|Black|    204.6251| 337.2200|  60|1124.90|             9|2005-07-01T00:00:...|                NULL|            NULL|R0lGODlhUAAxAPcAA...|  no_image_availabl...|aa95e2a5-e7c4-4b7...|2008-03-11T10:01:...|               18|                      2|  Road Frames|5515f857-075b-4f9...|2002-06-01T00:00:...|\n|      724|LL Road Frame - B...|   FR-R38B-62|Black|    204.6251| 337.2200|  62|1133.98|             9|2005-07-01T00:00:...|                NULL|            NULL|R0lGODlhUAAxAPcAA...|  no_image_availabl...|5247be33-50bf-452...|2008-03-11T10:01:...|               18|                      2|  Road Frames|5515f857-075b-4f9...|2002-06-01T00:00:...|\n+---------+--------------------+-------------+-----+------------+---------+----+-------+--------------+--------------------+--------------------+----------------+--------------------+----------------------+--------------------+--------------------+-----------------+-----------------------+-------------+--------------------+--------------------+\nonly showing top 20 rows\n"
     ]
    }
   ],
   "source": [
    "df_prodcat= df_product.join(df_category,df_product.ProductCategoryID== df_category.ProductCategoryID ).drop(df_product.ProductCategoryID)\n",
    "df_prodcat.show()"
   ]
  },
  {
   "cell_type": "code",
   "execution_count": 0,
   "metadata": {
    "application/vnd.databricks.v1+cell": {
     "cellMetadata": {
      "byteLimit": 2048000,
      "rowLimit": 10000
     },
     "inputWidgets": {},
     "nuid": "74dc2cf4-31bd-4412-8caa-7c83c0e962ec",
     "showTitle": false,
     "tableResultSettingsMap": {},
     "title": ""
    }
   },
   "outputs": [
    {
     "output_type": "stream",
     "name": "stdout",
     "output_type": "stream",
     "text": [
      "+---------+--------------------+------------+---------+-------+----+-------------+\n|ProductID|                Name|StandardCost|ListPrice| Weight|Size|Category Name|\n+---------+--------------------+------------+---------+-------+----+-------------+\n|      680|HL Road Frame - B...|   1059.3100|1431.5000|1016.04|  58|  Road Frames|\n|      706|HL Road Frame - R...|   1059.3100|1431.5000|1016.04|  58|  Road Frames|\n|      707|Sport-100 Helmet,...|     13.0863|  34.9900|   NULL|NULL|      Helmets|\n|      708|Sport-100 Helmet,...|     13.0863|  34.9900|   NULL|NULL|      Helmets|\n|      709|Mountain Bike Soc...|      3.3963|   9.5000|   NULL|   M|        Socks|\n|      710|Mountain Bike Soc...|      3.3963|   9.5000|   NULL|   L|        Socks|\n|      711|Sport-100 Helmet,...|     13.0863|  34.9900|   NULL|NULL|      Helmets|\n|      712|        AWC Logo Cap|      6.9223|   8.9900|   NULL|NULL|         Caps|\n|      713|Long-Sleeve Logo ...|     38.4923|  49.9900|   NULL|   S|      Jerseys|\n|      714|Long-Sleeve Logo ...|     38.4923|  49.9900|   NULL|   M|      Jerseys|\n|      715|Long-Sleeve Logo ...|     38.4923|  49.9900|   NULL|   L|      Jerseys|\n|      716|Long-Sleeve Logo ...|     38.4923|  49.9900|   NULL|  XL|      Jerseys|\n|      717|HL Road Frame - R...|    868.6342|1431.5000|1043.26|  62|  Road Frames|\n|      718|HL Road Frame - R...|    868.6342|1431.5000| 961.61|  44|  Road Frames|\n|      719|HL Road Frame - R...|    868.6342|1431.5000| 979.75|  48|  Road Frames|\n|      720|HL Road Frame - R...|    868.6342|1431.5000| 997.90|  52|  Road Frames|\n|      721|HL Road Frame - R...|    868.6342|1431.5000|1016.04|  56|  Road Frames|\n|      722|LL Road Frame - B...|    204.6251| 337.2200|1115.83|  58|  Road Frames|\n|      723|LL Road Frame - B...|    204.6251| 337.2200|1124.90|  60|  Road Frames|\n|      724|LL Road Frame - B...|    204.6251| 337.2200|1133.98|  62|  Road Frames|\n+---------+--------------------+------------+---------+-------+----+-------------+\nonly showing top 20 rows\n"
     ]
    }
   ],
   "source": [
    "df_product_data= df_prodcat.select('ProductID','Name','StandardCost','ListPrice','Weight','Size','Category Name')\n",
    "df_product_data.show()"
   ]
  },
  {
   "cell_type": "code",
   "execution_count": 0,
   "metadata": {
    "application/vnd.databricks.v1+cell": {
     "cellMetadata": {
      "byteLimit": 2048000,
      "rowLimit": 10000
     },
     "inputWidgets": {},
     "nuid": "902297ad-a7a0-4095-90ad-6f97bbed5784",
     "showTitle": false,
     "tableResultSettingsMap": {},
     "title": ""
    }
   },
   "outputs": [
    {
     "output_type": "stream",
     "name": "stdout",
     "output_type": "stream",
     "text": [
      "+---------+--------------------+------------+---------+-------+----+-------------+\n|ProductID|        Product_Name|StandardCost|ListPrice| Weight|Size|Category_Name|\n+---------+--------------------+------------+---------+-------+----+-------------+\n|      680|HL Road Frame - B...|   1059.3100|1431.5000|1016.04|  58|  Road Frames|\n|      706|HL Road Frame - R...|   1059.3100|1431.5000|1016.04|  58|  Road Frames|\n|      707|Sport-100 Helmet,...|     13.0863|  34.9900|   NULL|NULL|      Helmets|\n|      708|Sport-100 Helmet,...|     13.0863|  34.9900|   NULL|NULL|      Helmets|\n|      709|Mountain Bike Soc...|      3.3963|   9.5000|   NULL|   M|        Socks|\n|      710|Mountain Bike Soc...|      3.3963|   9.5000|   NULL|   L|        Socks|\n|      711|Sport-100 Helmet,...|     13.0863|  34.9900|   NULL|NULL|      Helmets|\n|      712|        AWC Logo Cap|      6.9223|   8.9900|   NULL|NULL|         Caps|\n|      713|Long-Sleeve Logo ...|     38.4923|  49.9900|   NULL|   S|      Jerseys|\n|      714|Long-Sleeve Logo ...|     38.4923|  49.9900|   NULL|   M|      Jerseys|\n|      715|Long-Sleeve Logo ...|     38.4923|  49.9900|   NULL|   L|      Jerseys|\n|      716|Long-Sleeve Logo ...|     38.4923|  49.9900|   NULL|  XL|      Jerseys|\n|      717|HL Road Frame - R...|    868.6342|1431.5000|1043.26|  62|  Road Frames|\n|      718|HL Road Frame - R...|    868.6342|1431.5000| 961.61|  44|  Road Frames|\n|      719|HL Road Frame - R...|    868.6342|1431.5000| 979.75|  48|  Road Frames|\n|      720|HL Road Frame - R...|    868.6342|1431.5000| 997.90|  52|  Road Frames|\n|      721|HL Road Frame - R...|    868.6342|1431.5000|1016.04|  56|  Road Frames|\n|      722|LL Road Frame - B...|    204.6251| 337.2200|1115.83|  58|  Road Frames|\n|      723|LL Road Frame - B...|    204.6251| 337.2200|1124.90|  60|  Road Frames|\n|      724|LL Road Frame - B...|    204.6251| 337.2200|1133.98|  62|  Road Frames|\n+---------+--------------------+------------+---------+-------+----+-------------+\nonly showing top 20 rows\n"
     ]
    }
   ],
   "source": [
    "df_product_data=df_product_data.withColumnRenamed(\"Name\",\"Product_Name\")\\\n",
    "    .withColumnRenamed(\"Category Name\",\"Category_Name\")\n",
    "df_product_data.show()"
   ]
  },
  {
   "cell_type": "code",
   "execution_count": 0,
   "metadata": {
    "application/vnd.databricks.v1+cell": {
     "cellMetadata": {
      "byteLimit": 2048000,
      "rowLimit": 10000
     },
     "inputWidgets": {},
     "nuid": "69c611e8-edad-4433-927f-4fda533c4aa2",
     "showTitle": false,
     "tableResultSettingsMap": {},
     "title": ""
    }
   },
   "outputs": [
    {
     "output_type": "stream",
     "name": "stdout",
     "output_type": "stream",
     "text": [
      "root\n |-- ProductID: string (nullable = true)\n |-- Product_Name: string (nullable = true)\n |-- StandardCost: string (nullable = true)\n |-- ListPrice: string (nullable = true)\n |-- Weight: string (nullable = true)\n |-- Size: string (nullable = true)\n |-- Category_Name: string (nullable = true)\n\n"
     ]
    }
   ],
   "source": [
    "df_product_data.printSchema()"
   ]
  },
  {
   "cell_type": "code",
   "execution_count": 0,
   "metadata": {
    "application/vnd.databricks.v1+cell": {
     "cellMetadata": {
      "byteLimit": 2048000,
      "rowLimit": 10000
     },
     "inputWidgets": {},
     "nuid": "b6c77b80-767b-4ace-b952-67e926d1f7c2",
     "showTitle": false,
     "tableResultSettingsMap": {},
     "title": ""
    }
   },
   "outputs": [],
   "source": [
    "from pyspark.sql.functions import col\n",
    "from pyspark.sql.types import IntegerType, StringType, DoubleType\n",
    "\n",
    "df_product_data = (df_product_data\n",
    "                   .withColumn(\"ProductID\", col(\"ProductID\").cast(IntegerType()))\n",
    "                   .withColumn(\"Product_Name\", col(\"Product_Name\").cast(StringType()))\n",
    "                   .withColumn(\"StandardCost\", col(\"StandardCost\").cast(DoubleType()))\n",
    "                   .withColumn(\"ListPrice\", col(\"ListPrice\").cast(DoubleType()))\n",
    "                   .withColumn(\"Weight\", col(\"Weight\").cast(DoubleType()))\n",
    "                   .withColumn(\"Size\", col(\"Size\").cast(DoubleType()))\n",
    "                   .withColumn(\"Category_Name\", col(\"Category_Name\").cast(StringType())))\n",
    " "
   ]
  },
  {
   "cell_type": "code",
   "execution_count": 0,
   "metadata": {
    "application/vnd.databricks.v1+cell": {
     "cellMetadata": {
      "byteLimit": 2048000,
      "rowLimit": 10000
     },
     "inputWidgets": {},
     "nuid": "af9bb6ab-1528-4de3-9b33-1d1e42b68335",
     "showTitle": false,
     "tableResultSettingsMap": {},
     "title": ""
    }
   },
   "outputs": [
    {
     "output_type": "stream",
     "name": "stdout",
     "output_type": "stream",
     "text": [
      "root\n |-- ProductID: integer (nullable = true)\n |-- Product_Name: string (nullable = true)\n |-- StandardCost: double (nullable = true)\n |-- ListPrice: double (nullable = true)\n |-- Weight: double (nullable = true)\n |-- Size: double (nullable = true)\n |-- Category_Name: string (nullable = true)\n\n"
     ]
    }
   ],
   "source": [
    "df_product_data.printSchema()"
   ]
  },
  {
   "cell_type": "code",
   "execution_count": 0,
   "metadata": {
    "application/vnd.databricks.v1+cell": {
     "cellMetadata": {
      "byteLimit": 2048000,
      "rowLimit": 10000
     },
     "inputWidgets": {},
     "nuid": "b7eea789-536a-4210-828b-83c3ddf183b3",
     "showTitle": false,
     "tableResultSettingsMap": {},
     "title": ""
    }
   },
   "outputs": [],
   "source": [
    "product_data_processed= df_product_data.write.mode( \"overwrite\").option(\"header\", \"true\").csv(f'{processed_folder_path}/productdata')"
   ]
  }
 ],
 "metadata": {
  "application/vnd.databricks.v1+notebook": {
   "computePreferences": null,
   "dashboards": [],
   "environmentMetadata": null,
   "language": "python",
   "notebookMetadata": {
    "pythonIndentUnit": 4
   },
   "notebookName": "product data",
   "widgets": {
    "Date": {
     "currentValue": "",
     "nuid": "229c7e17-20c6-449c-8e8f-820de6b311eb",
     "typedWidgetInfo": {
      "autoCreated": false,
      "defaultValue": "",
      "label": null,
      "name": "Date",
      "options": {
       "widgetDisplayType": "Text",
       "validationRegex": null
      },
      "parameterDataType": "String"
     },
     "widgetInfo": {
      "widgetType": "text",
      "defaultValue": "",
      "label": null,
      "name": "Date",
      "options": {
       "widgetType": "text",
       "autoCreated": null,
       "validationRegex": null
      }
     }
    }
   }
  },
  "language_info": {
   "name": "python"
  }
 },
 "nbformat": 4,
 "nbformat_minor": 0
}