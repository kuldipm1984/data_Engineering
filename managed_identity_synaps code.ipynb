{
 "cells": [
  {
   "cell_type": "code",
   "execution_count": 1,
   "metadata": {},
   "outputs": [
    {
     "data": {
      "application/vnd.livy.statement-meta+json": {
       "execution_finish_time": "2025-03-17T01:45:41.297804Z",
       "execution_start_time": "2025-03-17T01:45:40.9949027Z",
       "livy_statement_state": "available",
       "normalized_state": "finished",
       "parent_msg_id": "4f11070a-192e-40e4-8ef6-416ad4da204f",
       "queued_time": "2025-03-17T01:42:33.3389868Z",
       "session_id": "0",
       "session_start_time": "2025-03-17T01:42:33.3408238Z",
       "spark_jobs": null,
       "spark_pool": "myspark",
       "state": "finished",
       "statement_id": 2,
       "statement_ids": [
        2
       ]
      },
      "text/plain": [
       "StatementMeta(myspark, 0, 2, Finished, Available, Finished)"
      ]
     },
     "metadata": {},
     "output_type": "display_data"
    }
   ],
   "source": [
    "import pyspark\n",
    "# Create a spark session using getOrCreate() function \n",
    "from pyspark.sql import SparkSession \n",
    "spark_session = SparkSession.builder.getOrCreate()"
   ]
  },
  {
   "cell_type": "code",
   "execution_count": 8,
   "metadata": {},
   "outputs": [
    {
     "data": {
      "application/vnd.livy.statement-meta+json": {
       "execution_finish_time": "2025-03-17T01:54:01.3290059Z",
       "execution_start_time": "2025-03-17T01:54:01.0785278Z",
       "livy_statement_state": "available",
       "normalized_state": "finished",
       "parent_msg_id": "95483261-8392-4bfb-908b-f98f050db8a3",
       "queued_time": "2025-03-17T01:54:01.0761729Z",
       "session_id": "0",
       "session_start_time": null,
       "spark_jobs": null,
       "spark_pool": "myspark",
       "state": "finished",
       "statement_id": 9,
       "statement_ids": [
        9
       ]
      },
      "text/plain": [
       "StatementMeta(myspark, 0, 9, Finished, Available, Finished)"
      ]
     },
     "metadata": {},
     "output_type": "display_data"
    }
   ],
   "source": [
    "# Set Azure Blob Storage credentials\n",
    "storage_account_name = \"XXXXXXXXXXXXX\"\n",
    "storage_account_key = \"XXXXXXXXXXXXXXXXXXXXXXXXXXXXXXXXXXXXXXXXXXXXXX\"\n",
    "spark_session.conf.set(f\"fs.azure.account.key.{storage_account_name}.blob.core.windows.net\", storage_account_key)"
   ]
  },
  {
   "cell_type": "code",
   "execution_count": 9,
   "metadata": {},
   "outputs": [
    {
     "data": {
      "application/vnd.livy.statement-meta+json": {
       "execution_finish_time": "2025-03-17T01:55:07.0691026Z",
       "execution_start_time": "2025-03-17T01:54:47.7917498Z",
       "livy_statement_state": "available",
       "normalized_state": "finished",
       "parent_msg_id": "d7352237-4886-414d-b97f-c175b5c44ac5",
       "queued_time": "2025-03-17T01:54:47.7893903Z",
       "session_id": "0",
       "session_start_time": null,
       "spark_jobs": null,
       "spark_pool": "myspark",
       "state": "finished",
       "statement_id": 10,
       "statement_ids": [
        10
       ]
      },
      "text/plain": [
       "StatementMeta(myspark, 0, 10, Finished, Available, Finished)"
      ]
     },
     "metadata": {},
     "output_type": "display_data"
    }
   ],
   "source": [
    "# Read the CSV file\n",
    "df_sales = spark_session.read.csv(\n",
    "    \"wasbs://blob@XXXXXXX.blob.core.windows.net/saledatecsv.csv\",\n",
    "    header=True,\n",
    "    inferSchema=True\n",
    ")"
   ]
  },
  {
   "cell_type": "code",
   "execution_count": 10,
   "metadata": {},
   "outputs": [
    {
     "data": {
      "application/vnd.livy.statement-meta+json": {
       "execution_finish_time": "2025-03-17T01:55:18.1788511Z",
       "execution_start_time": "2025-03-17T01:55:16.2053095Z",
       "livy_statement_state": "available",
       "normalized_state": "finished",
       "parent_msg_id": "739cb36f-e2b5-4c99-9336-35dabce2c63f",
       "queued_time": "2025-03-17T01:55:16.2029339Z",
       "session_id": "0",
       "session_start_time": null,
       "spark_jobs": null,
       "spark_pool": "myspark",
       "state": "finished",
       "statement_id": 11,
       "statement_ids": [
        11
       ]
      },
      "text/plain": [
       "StatementMeta(myspark, 0, 11, Finished, Available, Finished)"
      ]
     },
     "metadata": {},
     "output_type": "display_data"
    },
    {
     "name": "stdout",
     "output_type": "stream",
     "text": [
      "+----------+--------+----+------+----------+\n",
      "|product_ID|   Month|Sale| Store|      Date|\n",
      "+----------+--------+----+------+----------+\n",
      "|      Rice| January| 455|StoreA|15-01-2020|\n",
      "|      Rice| January| 455|StoreA|16-01-2020|\n",
      "|      Rice| January| 600|StoreB|17-01-2020|\n",
      "|      Rice| January| 455|StoreB|18-01-2020|\n",
      "|      Rice| January| 310|StoreA|19-01-2020|\n",
      "|      Rice|February| 290|StoreC|01-01-2020|\n",
      "|      Rice|February| 270|StoreA|03-01-2020|\n",
      "|      Rice|February| 250|StoreC|05-01-2020|\n",
      "|      Rice|February| 230|StoreC|07-01-2020|\n",
      "|      Rice|   March| 390|StoreA|01-03-2020|\n",
      "|      Rice|   March| 470|StoreB|02-03-2020|\n",
      "|      Rice|   March| 550|StoreC|03-03-2020|\n",
      "|      Rice|   March| 630|StoreC|04-03-2020|\n",
      "|      Salt| January| 710|StoreC|15-01-2020|\n",
      "|      Salt| January| 600|StoreA|16-01-2020|\n",
      "|      Salt| January| 455|StoreC|17-01-2020|\n",
      "|      Salt|February| 310|StoreC|18-02-2020|\n",
      "|      Salt|February| 600|StoreC|19-02-2020|\n",
      "|      Salt|February| 455|StoreC|20-02-2020|\n",
      "|      Salt|   March| 310|StoreC|21-03-2020|\n",
      "+----------+--------+----+------+----------+\n",
      "only showing top 20 rows\n",
      "\n"
     ]
    }
   ],
   "source": [
    "df_sales.show()"
   ]
  },
  {
   "cell_type": "code",
   "execution_count": 12,
   "metadata": {},
   "outputs": [
    {
     "data": {
      "application/vnd.livy.statement-meta+json": {
       "execution_finish_time": "2025-03-17T01:58:21.2306337Z",
       "execution_start_time": "2025-03-17T01:58:20.0409747Z",
       "livy_statement_state": "available",
       "normalized_state": "finished",
       "parent_msg_id": "23b0c1b3-2963-464d-83c8-a835bcfd29c8",
       "queued_time": "2025-03-17T01:58:20.0385125Z",
       "session_id": "0",
       "session_start_time": null,
       "spark_jobs": null,
       "spark_pool": "myspark",
       "state": "finished",
       "statement_id": 13,
       "statement_ids": [
        13
       ]
      },
      "text/plain": [
       "StatementMeta(myspark, 0, 13, Finished, Available, Finished)"
      ]
     },
     "metadata": {},
     "output_type": "display_data"
    },
    {
     "name": "stdout",
     "output_type": "stream",
     "text": [
      "+----------+--------+----+----------+-----+\n",
      "|product_ID|   Month|Sale| Salesdate|value|\n",
      "+----------+--------+----+----------+-----+\n",
      "|      Rice| January| 455|15-01-2020|   24|\n",
      "|      Rice| January| 455|16-01-2020|   24|\n",
      "|      Rice| January| 600|17-01-2020|   24|\n",
      "|      Rice| January| 455|18-01-2020|   24|\n",
      "|      Rice| January| 310|19-01-2020|   24|\n",
      "|      Rice|February| 290|01-01-2020|   24|\n",
      "|      Rice|February| 270|03-01-2020|   24|\n",
      "|      Rice|February| 250|05-01-2020|   24|\n",
      "|      Rice|February| 230|07-01-2020|   24|\n",
      "|      Rice|   March| 390|01-03-2020|   24|\n",
      "|      Rice|   March| 470|02-03-2020|   24|\n",
      "|      Rice|   March| 550|03-03-2020|   24|\n",
      "|      Rice|   March| 630|04-03-2020|   24|\n",
      "|      Salt| January| 710|15-01-2020|   24|\n",
      "|      Salt| January| 600|16-01-2020|   24|\n",
      "|      Salt| January| 455|17-01-2020|   24|\n",
      "|      Salt|February| 310|18-02-2020|   24|\n",
      "|      Salt|February| 600|19-02-2020|   24|\n",
      "|      Salt|February| 455|20-02-2020|   24|\n",
      "|      Salt|   March| 310|21-03-2020|   24|\n",
      "+----------+--------+----+----------+-----+\n",
      "only showing top 20 rows\n",
      "\n"
     ]
    }
   ],
   "source": [
    "from pyspark.sql.functions import col, concat_ws, current_timestamp, lit, split, to_date\n",
    "\n",
    "df_sales_modified = (\n",
    "    df_sales.drop(\"Store\")  \n",
    "    .withColumn(\"value\", lit(24))  # Ensure the value is a column\n",
    "    .withColumnRenamed(\"Date\", \"Salesdate\")  # Rename column\n",
    ")\n",
    "\n",
    "df_sales_modified.show()"
   ]
  }
 ],
 "metadata": {
  "kernel_info": {
   "name": "synapse_pyspark"
  },
  "kernelspec": {
   "display_name": "Python 3 (ipykernel)",
   "language": "python",
   "name": "python3"
  },
  "language_info": {
   "codemirror_mode": {
    "name": "ipython",
    "version": 3
   },
   "file_extension": ".py",
   "mimetype": "text/x-python",
   "name": "python",
   "nbconvert_exporter": "python",
   "pygments_lexer": "ipython3",
   "version": "3.11.7"
  },
  "save_output": true,
  "synapse_widget": {
   "state": {},
   "version": "0.1"
  }
 },
 "nbformat": 4,
 "nbformat_minor": 4
}
